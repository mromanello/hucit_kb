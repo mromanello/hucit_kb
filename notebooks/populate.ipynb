{
 "cells": [
  {
   "cell_type": "code",
   "execution_count": 1,
   "metadata": {},
   "outputs": [],
   "source": [
    "%load_ext autoreload"
   ]
  },
  {
   "cell_type": "code",
   "execution_count": 3,
   "metadata": {},
   "outputs": [],
   "source": [
    "%autoreload 2"
   ]
  },
  {
   "cell_type": "code",
   "execution_count": 33,
   "metadata": {},
   "outputs": [],
   "source": [
    "from pyCTS import CTS_URN"
   ]
  },
  {
   "cell_type": "code",
   "execution_count": 5,
   "metadata": {},
   "outputs": [],
   "source": [
    "from hucitlib import KnowledgeBase\n",
    "from hucitlib.surfext import *"
   ]
  },
  {
   "cell_type": "code",
   "execution_count": 7,
   "metadata": {},
   "outputs": [],
   "source": [
    "kb = KnowledgeBase('../hucitlib/config/virtuoso_pc6.ini')"
   ]
  },
  {
   "cell_type": "markdown",
   "metadata": {},
   "source": [
    "## functions"
   ]
  },
  {
   "cell_type": "code",
   "execution_count": 42,
   "metadata": {},
   "outputs": [],
   "source": [
    "import os\n",
    "import json\n",
    "from typing import Dict\n",
    "\n",
    "def load_text_structure(work_urn : str, basedir : str) -> Dict:\n",
    "    ts_path = os.path.join(basedir, f'{work_urn.replace(\":\", \"-\")}.json')\n",
    "    with open(ts_path, 'r') as ifile:\n",
    "        text_structure = json.load(ifile)\n",
    "    return text_structure"
   ]
  },
  {
   "cell_type": "code",
   "execution_count": 100,
   "metadata": {},
   "outputs": [],
   "source": [
    "import ipdb\n",
    "from surf.resource import Resource\n",
    "\n",
    "def populate_text_structure(kb : KnowledgeBase, work : Resource, ts : Dict):\n",
    "    \"\"\"\n",
    "    TODO\n",
    "\n",
    "    Logic:\n",
    "    * check whether the work already has a TextStructure\n",
    "    * otherwise add a new one\n",
    "    * ts.add_levels([level[1] for level in ts[\"levels\"]])\n",
    "    * for each level, add the TextElements\n",
    "    \"\"\"\n",
    "    \n",
    "    # retrieve the text structure of the work\n",
    "    # if not there, create one\n",
    "    if work_obj.has_text_structure():\n",
    "        ts_obj = work_obj.structure\n",
    "    else:\n",
    "        ts_obj = work_obj.add_text_structure(\n",
    "            \"Canonical text structure of Sophocles' Ajax.\",\n",
    "            \"en\"\n",
    "        )\n",
    "    \n",
    "    # for each text level of a given work, iterate through all existing\n",
    "    # citable text elements.\n",
    "    for text_level_n, element_type in ts['levels']:\n",
    "        \n",
    "        # retrieve from the KB the corresponding text element type\n",
    "        # if not there, create one\n",
    "        element_type_obj = kb.get_textelement_type(element_type)\n",
    "        if element_type_obj is None:\n",
    "            element_type_obj = kb.add_textelement_type(element_type)\n",
    "        \n",
    "        for text_element_dict in ts['valid_reffs'][str(text_level_n)]:\n",
    "            \n",
    "            ts_obj.create_element(\n",
    "                urn=text_element_dict['current'],\n",
    "                element_type=element_type_obj,\n",
    "                previous_urn=text_element_dict['previous'] if 'previous' in text_element_dict else None,\n",
    "                following_urn=text_element_dict['following'] if 'following' in text_element_dict else None,\n",
    "                parent_urn=None\n",
    "            )\n",
    "            #ipdb.set_trace()\n",
    "    \n",
    "    return"
   ]
  },
  {
   "cell_type": "markdown",
   "metadata": {},
   "source": [
    "## business"
   ]
  },
  {
   "cell_type": "code",
   "execution_count": 43,
   "metadata": {},
   "outputs": [],
   "source": [
    "urn = \"urn:cts:greekLit:tlg0011.tlg003\"\n",
    "basedir = \"../hucitlib/data/text_structures/\""
   ]
  },
  {
   "cell_type": "code",
   "execution_count": 88,
   "metadata": {},
   "outputs": [],
   "source": [
    "work_obj = kb.get_resource_by_urn(urn)"
   ]
  },
  {
   "cell_type": "code",
   "execution_count": 56,
   "metadata": {},
   "outputs": [],
   "source": [
    "text_structure_dict = load_text_structure(urn, basedir)"
   ]
  },
  {
   "cell_type": "code",
   "execution_count": 89,
   "metadata": {},
   "outputs": [],
   "source": [
    "ts = work_obj.structure"
   ]
  },
  {
   "cell_type": "code",
   "execution_count": 102,
   "metadata": {},
   "outputs": [
    {
     "name": "stdout",
     "output_type": "stream",
     "text": [
      "Created http://purl.org/hucit/kb/works/3896/1\n",
      "Created http://purl.org/hucit/kb/works/3896/2\n",
      "Created http://purl.org/hucit/kb/works/3896/3\n",
      "Created http://purl.org/hucit/kb/works/3896/4\n",
      "Created http://purl.org/hucit/kb/works/3896/5\n",
      "Created http://purl.org/hucit/kb/works/3896/6\n",
      "Created http://purl.org/hucit/kb/works/3896/7\n",
      "Created http://purl.org/hucit/kb/works/3896/8\n",
      "Created http://purl.org/hucit/kb/works/3896/9\n",
      "Created http://purl.org/hucit/kb/works/3896/10\n",
      "Created http://purl.org/hucit/kb/works/3896/11\n",
      "Created http://purl.org/hucit/kb/works/3896/12\n",
      "Created http://purl.org/hucit/kb/works/3896/13\n",
      "Created http://purl.org/hucit/kb/works/3896/14\n",
      "Created http://purl.org/hucit/kb/works/3896/15\n",
      "Created http://purl.org/hucit/kb/works/3896/16\n",
      "Created http://purl.org/hucit/kb/works/3896/17\n",
      "Created http://purl.org/hucit/kb/works/3896/18\n",
      "Created http://purl.org/hucit/kb/works/3896/19\n",
      "Created http://purl.org/hucit/kb/works/3896/20\n",
      "Created http://purl.org/hucit/kb/works/3896/21\n",
      "Created http://purl.org/hucit/kb/works/3896/22\n",
      "Created http://purl.org/hucit/kb/works/3896/23\n",
      "Created http://purl.org/hucit/kb/works/3896/24\n",
      "Created http://purl.org/hucit/kb/works/3896/25\n",
      "Created http://purl.org/hucit/kb/works/3896/26\n",
      "Created http://purl.org/hucit/kb/works/3896/27\n",
      "Created http://purl.org/hucit/kb/works/3896/28\n",
      "Created http://purl.org/hucit/kb/works/3896/29\n",
      "Created http://purl.org/hucit/kb/works/3896/30\n",
      "Created http://purl.org/hucit/kb/works/3896/31\n",
      "Created http://purl.org/hucit/kb/works/3896/32\n",
      "Created http://purl.org/hucit/kb/works/3896/33\n",
      "Created http://purl.org/hucit/kb/works/3896/34\n",
      "Created http://purl.org/hucit/kb/works/3896/35\n",
      "Created http://purl.org/hucit/kb/works/3896/36\n",
      "Created http://purl.org/hucit/kb/works/3896/37\n",
      "Created http://purl.org/hucit/kb/works/3896/38\n",
      "Created http://purl.org/hucit/kb/works/3896/39\n",
      "Created http://purl.org/hucit/kb/works/3896/40\n",
      "Created http://purl.org/hucit/kb/works/3896/41\n",
      "Created http://purl.org/hucit/kb/works/3896/42\n",
      "Created http://purl.org/hucit/kb/works/3896/43\n",
      "Created http://purl.org/hucit/kb/works/3896/44\n",
      "Created http://purl.org/hucit/kb/works/3896/45\n",
      "Created http://purl.org/hucit/kb/works/3896/46\n",
      "Created http://purl.org/hucit/kb/works/3896/47\n",
      "Created http://purl.org/hucit/kb/works/3896/48\n",
      "Created http://purl.org/hucit/kb/works/3896/49\n",
      "Created http://purl.org/hucit/kb/works/3896/50\n",
      "Created http://purl.org/hucit/kb/works/3896/51\n",
      "Created http://purl.org/hucit/kb/works/3896/52\n",
      "Created http://purl.org/hucit/kb/works/3896/53\n",
      "Created http://purl.org/hucit/kb/works/3896/54\n",
      "Created http://purl.org/hucit/kb/works/3896/55\n",
      "Created http://purl.org/hucit/kb/works/3896/56\n",
      "Created http://purl.org/hucit/kb/works/3896/57\n",
      "Created http://purl.org/hucit/kb/works/3896/58\n",
      "Created http://purl.org/hucit/kb/works/3896/59\n",
      "Created http://purl.org/hucit/kb/works/3896/60\n",
      "Created http://purl.org/hucit/kb/works/3896/61\n",
      "Created http://purl.org/hucit/kb/works/3896/62\n",
      "Created http://purl.org/hucit/kb/works/3896/63\n",
      "Created http://purl.org/hucit/kb/works/3896/64\n",
      "Created http://purl.org/hucit/kb/works/3896/65\n",
      "Created http://purl.org/hucit/kb/works/3896/66\n",
      "Created http://purl.org/hucit/kb/works/3896/67\n",
      "Created http://purl.org/hucit/kb/works/3896/68\n",
      "Created http://purl.org/hucit/kb/works/3896/69\n",
      "Created http://purl.org/hucit/kb/works/3896/70\n",
      "Created http://purl.org/hucit/kb/works/3896/71\n",
      "Created http://purl.org/hucit/kb/works/3896/72\n",
      "Created http://purl.org/hucit/kb/works/3896/73\n",
      "Created http://purl.org/hucit/kb/works/3896/74\n",
      "Created http://purl.org/hucit/kb/works/3896/75\n",
      "Created http://purl.org/hucit/kb/works/3896/76\n",
      "Created http://purl.org/hucit/kb/works/3896/77\n",
      "Created http://purl.org/hucit/kb/works/3896/78\n",
      "Created http://purl.org/hucit/kb/works/3896/79\n",
      "Created http://purl.org/hucit/kb/works/3896/80\n",
      "Created http://purl.org/hucit/kb/works/3896/81\n",
      "Created http://purl.org/hucit/kb/works/3896/82\n",
      "Created http://purl.org/hucit/kb/works/3896/83\n",
      "Created http://purl.org/hucit/kb/works/3896/84\n",
      "Created http://purl.org/hucit/kb/works/3896/85\n",
      "Created http://purl.org/hucit/kb/works/3896/86\n",
      "Created http://purl.org/hucit/kb/works/3896/87\n",
      "Created http://purl.org/hucit/kb/works/3896/88\n",
      "Created http://purl.org/hucit/kb/works/3896/89\n",
      "Created http://purl.org/hucit/kb/works/3896/90\n",
      "Created http://purl.org/hucit/kb/works/3896/91\n",
      "Created http://purl.org/hucit/kb/works/3896/92\n",
      "Created http://purl.org/hucit/kb/works/3896/93\n",
      "Created http://purl.org/hucit/kb/works/3896/94\n",
      "Created http://purl.org/hucit/kb/works/3896/95\n",
      "Created http://purl.org/hucit/kb/works/3896/96\n",
      "Created http://purl.org/hucit/kb/works/3896/97\n",
      "Created http://purl.org/hucit/kb/works/3896/98\n",
      "Created http://purl.org/hucit/kb/works/3896/99\n",
      "Created http://purl.org/hucit/kb/works/3896/100\n",
      "Created http://purl.org/hucit/kb/works/3896/101\n",
      "Created http://purl.org/hucit/kb/works/3896/102\n",
      "Created http://purl.org/hucit/kb/works/3896/103\n",
      "Created http://purl.org/hucit/kb/works/3896/104\n",
      "Created http://purl.org/hucit/kb/works/3896/105\n",
      "Created http://purl.org/hucit/kb/works/3896/106\n",
      "Created http://purl.org/hucit/kb/works/3896/107\n",
      "Created http://purl.org/hucit/kb/works/3896/108\n",
      "Created http://purl.org/hucit/kb/works/3896/109\n",
      "Created http://purl.org/hucit/kb/works/3896/110\n",
      "Created http://purl.org/hucit/kb/works/3896/111\n",
      "Created http://purl.org/hucit/kb/works/3896/112\n",
      "Created http://purl.org/hucit/kb/works/3896/113\n",
      "Created http://purl.org/hucit/kb/works/3896/114\n",
      "Created http://purl.org/hucit/kb/works/3896/115\n",
      "Created http://purl.org/hucit/kb/works/3896/116\n",
      "Created http://purl.org/hucit/kb/works/3896/117\n",
      "Created http://purl.org/hucit/kb/works/3896/118\n",
      "Created http://purl.org/hucit/kb/works/3896/119\n",
      "Created http://purl.org/hucit/kb/works/3896/120\n",
      "Created http://purl.org/hucit/kb/works/3896/121\n",
      "Created http://purl.org/hucit/kb/works/3896/122\n",
      "Created http://purl.org/hucit/kb/works/3896/123\n",
      "Created http://purl.org/hucit/kb/works/3896/124\n",
      "Created http://purl.org/hucit/kb/works/3896/125\n",
      "Created http://purl.org/hucit/kb/works/3896/126\n",
      "Created http://purl.org/hucit/kb/works/3896/127\n",
      "Created http://purl.org/hucit/kb/works/3896/128\n",
      "Created http://purl.org/hucit/kb/works/3896/129\n",
      "Created http://purl.org/hucit/kb/works/3896/130\n",
      "Created http://purl.org/hucit/kb/works/3896/131\n",
      "Created http://purl.org/hucit/kb/works/3896/132\n",
      "Created http://purl.org/hucit/kb/works/3896/133\n",
      "Created http://purl.org/hucit/kb/works/3896/134\n",
      "Created http://purl.org/hucit/kb/works/3896/135\n",
      "Created http://purl.org/hucit/kb/works/3896/136\n",
      "Created http://purl.org/hucit/kb/works/3896/137\n",
      "Created http://purl.org/hucit/kb/works/3896/138\n",
      "Created http://purl.org/hucit/kb/works/3896/139\n",
      "Created http://purl.org/hucit/kb/works/3896/140\n",
      "Created http://purl.org/hucit/kb/works/3896/141\n",
      "Created http://purl.org/hucit/kb/works/3896/142\n",
      "Created http://purl.org/hucit/kb/works/3896/143\n",
      "Created http://purl.org/hucit/kb/works/3896/144\n",
      "Created http://purl.org/hucit/kb/works/3896/145\n",
      "Created http://purl.org/hucit/kb/works/3896/146\n",
      "Created http://purl.org/hucit/kb/works/3896/147\n",
      "Created http://purl.org/hucit/kb/works/3896/148\n",
      "Created http://purl.org/hucit/kb/works/3896/149\n",
      "Created http://purl.org/hucit/kb/works/3896/150\n",
      "Created http://purl.org/hucit/kb/works/3896/151\n",
      "Created http://purl.org/hucit/kb/works/3896/152\n",
      "Created http://purl.org/hucit/kb/works/3896/153\n",
      "Created http://purl.org/hucit/kb/works/3896/154\n",
      "Created http://purl.org/hucit/kb/works/3896/155\n",
      "Created http://purl.org/hucit/kb/works/3896/156\n",
      "Created http://purl.org/hucit/kb/works/3896/157\n",
      "Created http://purl.org/hucit/kb/works/3896/158\n",
      "Created http://purl.org/hucit/kb/works/3896/159\n",
      "Created http://purl.org/hucit/kb/works/3896/160\n",
      "Created http://purl.org/hucit/kb/works/3896/161\n",
      "Created http://purl.org/hucit/kb/works/3896/162\n",
      "Created http://purl.org/hucit/kb/works/3896/163\n",
      "Created http://purl.org/hucit/kb/works/3896/164\n",
      "Created http://purl.org/hucit/kb/works/3896/165\n",
      "Created http://purl.org/hucit/kb/works/3896/166\n",
      "Created http://purl.org/hucit/kb/works/3896/167\n",
      "Created http://purl.org/hucit/kb/works/3896/168\n",
      "Created http://purl.org/hucit/kb/works/3896/169\n",
      "Created http://purl.org/hucit/kb/works/3896/170\n",
      "Created http://purl.org/hucit/kb/works/3896/171\n",
      "Created http://purl.org/hucit/kb/works/3896/172\n",
      "Created http://purl.org/hucit/kb/works/3896/173\n",
      "Created http://purl.org/hucit/kb/works/3896/174\n",
      "Created http://purl.org/hucit/kb/works/3896/175\n",
      "Created http://purl.org/hucit/kb/works/3896/176\n",
      "Created http://purl.org/hucit/kb/works/3896/177\n",
      "Created http://purl.org/hucit/kb/works/3896/178\n"
     ]
    },
    {
     "name": "stdout",
     "output_type": "stream",
     "text": [
      "Created http://purl.org/hucit/kb/works/3896/179\n",
      "Created http://purl.org/hucit/kb/works/3896/180\n",
      "Created http://purl.org/hucit/kb/works/3896/181\n",
      "Created http://purl.org/hucit/kb/works/3896/182\n",
      "Created http://purl.org/hucit/kb/works/3896/183\n",
      "Created http://purl.org/hucit/kb/works/3896/185\n",
      "Created http://purl.org/hucit/kb/works/3896/186\n",
      "Created http://purl.org/hucit/kb/works/3896/187\n",
      "Created http://purl.org/hucit/kb/works/3896/188\n",
      "Created http://purl.org/hucit/kb/works/3896/189\n",
      "Created http://purl.org/hucit/kb/works/3896/190\n",
      "Created http://purl.org/hucit/kb/works/3896/191\n",
      "Created http://purl.org/hucit/kb/works/3896/192\n",
      "Created http://purl.org/hucit/kb/works/3896/193\n",
      "Created http://purl.org/hucit/kb/works/3896/194\n",
      "Created http://purl.org/hucit/kb/works/3896/195\n",
      "Created http://purl.org/hucit/kb/works/3896/196\n",
      "Created http://purl.org/hucit/kb/works/3896/197\n",
      "Created http://purl.org/hucit/kb/works/3896/198\n",
      "Created http://purl.org/hucit/kb/works/3896/199\n",
      "Created http://purl.org/hucit/kb/works/3896/200\n",
      "Created http://purl.org/hucit/kb/works/3896/201\n",
      "Created http://purl.org/hucit/kb/works/3896/202\n",
      "Created http://purl.org/hucit/kb/works/3896/203\n",
      "Created http://purl.org/hucit/kb/works/3896/204\n",
      "Created http://purl.org/hucit/kb/works/3896/205\n",
      "Created http://purl.org/hucit/kb/works/3896/206\n",
      "Created http://purl.org/hucit/kb/works/3896/207\n",
      "Created http://purl.org/hucit/kb/works/3896/208\n",
      "Created http://purl.org/hucit/kb/works/3896/209\n",
      "Created http://purl.org/hucit/kb/works/3896/210\n",
      "Created http://purl.org/hucit/kb/works/3896/211\n",
      "Created http://purl.org/hucit/kb/works/3896/212\n",
      "Created http://purl.org/hucit/kb/works/3896/213\n",
      "Created http://purl.org/hucit/kb/works/3896/214\n",
      "Created http://purl.org/hucit/kb/works/3896/215\n",
      "Created http://purl.org/hucit/kb/works/3896/216\n",
      "Created http://purl.org/hucit/kb/works/3896/217\n",
      "Created http://purl.org/hucit/kb/works/3896/218\n",
      "Created http://purl.org/hucit/kb/works/3896/219\n",
      "Created http://purl.org/hucit/kb/works/3896/220\n",
      "Created http://purl.org/hucit/kb/works/3896/221\n",
      "Created http://purl.org/hucit/kb/works/3896/222\n",
      "Created http://purl.org/hucit/kb/works/3896/225\n",
      "Created http://purl.org/hucit/kb/works/3896/226\n",
      "Created http://purl.org/hucit/kb/works/3896/227\n",
      "Created http://purl.org/hucit/kb/works/3896/230\n",
      "Created http://purl.org/hucit/kb/works/3896/231\n",
      "Created http://purl.org/hucit/kb/works/3896/233\n",
      "Created http://purl.org/hucit/kb/works/3896/234\n",
      "Created http://purl.org/hucit/kb/works/3896/235\n",
      "Created http://purl.org/hucit/kb/works/3896/236\n",
      "Created http://purl.org/hucit/kb/works/3896/237\n",
      "Created http://purl.org/hucit/kb/works/3896/238\n",
      "Created http://purl.org/hucit/kb/works/3896/239\n",
      "Created http://purl.org/hucit/kb/works/3896/240\n",
      "Created http://purl.org/hucit/kb/works/3896/241\n",
      "Created http://purl.org/hucit/kb/works/3896/242\n",
      "Created http://purl.org/hucit/kb/works/3896/243\n",
      "Created http://purl.org/hucit/kb/works/3896/244\n",
      "Created http://purl.org/hucit/kb/works/3896/245\n",
      "Created http://purl.org/hucit/kb/works/3896/246\n",
      "Created http://purl.org/hucit/kb/works/3896/247\n",
      "Created http://purl.org/hucit/kb/works/3896/250\n",
      "Created http://purl.org/hucit/kb/works/3896/251\n",
      "Created http://purl.org/hucit/kb/works/3896/252\n",
      "Created http://purl.org/hucit/kb/works/3896/255\n",
      "Created http://purl.org/hucit/kb/works/3896/257\n",
      "Created http://purl.org/hucit/kb/works/3896/258\n",
      "Created http://purl.org/hucit/kb/works/3896/259\n",
      "Created http://purl.org/hucit/kb/works/3896/260\n",
      "Created http://purl.org/hucit/kb/works/3896/261\n",
      "Created http://purl.org/hucit/kb/works/3896/262\n",
      "Created http://purl.org/hucit/kb/works/3896/263\n",
      "Created http://purl.org/hucit/kb/works/3896/264\n",
      "Created http://purl.org/hucit/kb/works/3896/265\n",
      "Created http://purl.org/hucit/kb/works/3896/266\n",
      "Created http://purl.org/hucit/kb/works/3896/267\n",
      "Created http://purl.org/hucit/kb/works/3896/268\n",
      "Created http://purl.org/hucit/kb/works/3896/269\n",
      "Created http://purl.org/hucit/kb/works/3896/270\n",
      "Created http://purl.org/hucit/kb/works/3896/271\n",
      "Created http://purl.org/hucit/kb/works/3896/272\n",
      "Created http://purl.org/hucit/kb/works/3896/273\n",
      "Created http://purl.org/hucit/kb/works/3896/274\n",
      "Created http://purl.org/hucit/kb/works/3896/275\n",
      "Created http://purl.org/hucit/kb/works/3896/276\n",
      "Created http://purl.org/hucit/kb/works/3896/277\n",
      "Created http://purl.org/hucit/kb/works/3896/278\n",
      "Created http://purl.org/hucit/kb/works/3896/279\n",
      "Created http://purl.org/hucit/kb/works/3896/280\n",
      "Created http://purl.org/hucit/kb/works/3896/281\n",
      "Created http://purl.org/hucit/kb/works/3896/282\n",
      "Created http://purl.org/hucit/kb/works/3896/283\n",
      "Created http://purl.org/hucit/kb/works/3896/284\n",
      "Created http://purl.org/hucit/kb/works/3896/285\n",
      "Created http://purl.org/hucit/kb/works/3896/286\n",
      "Created http://purl.org/hucit/kb/works/3896/287\n",
      "Created http://purl.org/hucit/kb/works/3896/288\n",
      "Created http://purl.org/hucit/kb/works/3896/289\n",
      "Created http://purl.org/hucit/kb/works/3896/290\n",
      "Created http://purl.org/hucit/kb/works/3896/291\n",
      "Created http://purl.org/hucit/kb/works/3896/292\n",
      "Created http://purl.org/hucit/kb/works/3896/293\n",
      "Created http://purl.org/hucit/kb/works/3896/294\n",
      "Created http://purl.org/hucit/kb/works/3896/295\n",
      "Created http://purl.org/hucit/kb/works/3896/296\n",
      "Created http://purl.org/hucit/kb/works/3896/297\n",
      "Created http://purl.org/hucit/kb/works/3896/298\n",
      "Created http://purl.org/hucit/kb/works/3896/299\n",
      "Created http://purl.org/hucit/kb/works/3896/300\n",
      "Created http://purl.org/hucit/kb/works/3896/301\n",
      "Created http://purl.org/hucit/kb/works/3896/302\n",
      "Created http://purl.org/hucit/kb/works/3896/303\n",
      "Created http://purl.org/hucit/kb/works/3896/304\n",
      "Created http://purl.org/hucit/kb/works/3896/305\n",
      "Created http://purl.org/hucit/kb/works/3896/306\n",
      "Created http://purl.org/hucit/kb/works/3896/307\n",
      "Created http://purl.org/hucit/kb/works/3896/308\n",
      "Created http://purl.org/hucit/kb/works/3896/309\n",
      "Created http://purl.org/hucit/kb/works/3896/310\n",
      "Created http://purl.org/hucit/kb/works/3896/311\n",
      "Created http://purl.org/hucit/kb/works/3896/312\n",
      "Created http://purl.org/hucit/kb/works/3896/313\n",
      "Created http://purl.org/hucit/kb/works/3896/314\n",
      "Created http://purl.org/hucit/kb/works/3896/315\n",
      "Created http://purl.org/hucit/kb/works/3896/316\n",
      "Created http://purl.org/hucit/kb/works/3896/317\n",
      "Created http://purl.org/hucit/kb/works/3896/318\n",
      "Created http://purl.org/hucit/kb/works/3896/319\n",
      "Created http://purl.org/hucit/kb/works/3896/320\n",
      "Created http://purl.org/hucit/kb/works/3896/321\n",
      "Created http://purl.org/hucit/kb/works/3896/322\n",
      "Created http://purl.org/hucit/kb/works/3896/323\n",
      "Created http://purl.org/hucit/kb/works/3896/324\n",
      "Created http://purl.org/hucit/kb/works/3896/325\n",
      "Created http://purl.org/hucit/kb/works/3896/326\n",
      "Created http://purl.org/hucit/kb/works/3896/327\n",
      "Created http://purl.org/hucit/kb/works/3896/328\n",
      "Created http://purl.org/hucit/kb/works/3896/329\n",
      "Created http://purl.org/hucit/kb/works/3896/330\n",
      "Created http://purl.org/hucit/kb/works/3896/331\n",
      "Created http://purl.org/hucit/kb/works/3896/332\n",
      "Created http://purl.org/hucit/kb/works/3896/333\n",
      "Created http://purl.org/hucit/kb/works/3896/334\n",
      "Created http://purl.org/hucit/kb/works/3896/335\n",
      "Created http://purl.org/hucit/kb/works/3896/336\n",
      "Created http://purl.org/hucit/kb/works/3896/337\n",
      "Created http://purl.org/hucit/kb/works/3896/338\n",
      "Created http://purl.org/hucit/kb/works/3896/339\n",
      "Created http://purl.org/hucit/kb/works/3896/340\n",
      "Created http://purl.org/hucit/kb/works/3896/341\n",
      "Created http://purl.org/hucit/kb/works/3896/342\n",
      "Created http://purl.org/hucit/kb/works/3896/343\n",
      "Created http://purl.org/hucit/kb/works/3896/344\n",
      "Created http://purl.org/hucit/kb/works/3896/345\n",
      "Created http://purl.org/hucit/kb/works/3896/346\n",
      "Created http://purl.org/hucit/kb/works/3896/347\n",
      "Created http://purl.org/hucit/kb/works/3896/348\n",
      "Created http://purl.org/hucit/kb/works/3896/349\n",
      "Created http://purl.org/hucit/kb/works/3896/350\n",
      "Created http://purl.org/hucit/kb/works/3896/351\n",
      "Created http://purl.org/hucit/kb/works/3896/352\n",
      "Created http://purl.org/hucit/kb/works/3896/354\n",
      "Created http://purl.org/hucit/kb/works/3896/355\n",
      "Created http://purl.org/hucit/kb/works/3896/356\n",
      "Created http://purl.org/hucit/kb/works/3896/357\n",
      "Created http://purl.org/hucit/kb/works/3896/358\n",
      "Created http://purl.org/hucit/kb/works/3896/360\n",
      "Created http://purl.org/hucit/kb/works/3896/361\n",
      "Created http://purl.org/hucit/kb/works/3896/362\n",
      "Created http://purl.org/hucit/kb/works/3896/363\n",
      "Created http://purl.org/hucit/kb/works/3896/364\n",
      "Created http://purl.org/hucit/kb/works/3896/365\n",
      "Created http://purl.org/hucit/kb/works/3896/366\n",
      "Created http://purl.org/hucit/kb/works/3896/367\n"
     ]
    },
    {
     "name": "stdout",
     "output_type": "stream",
     "text": [
      "Created http://purl.org/hucit/kb/works/3896/368\n",
      "Created http://purl.org/hucit/kb/works/3896/369\n",
      "Created http://purl.org/hucit/kb/works/3896/370\n",
      "Created http://purl.org/hucit/kb/works/3896/371\n",
      "Created http://purl.org/hucit/kb/works/3896/372\n",
      "Created http://purl.org/hucit/kb/works/3896/373\n",
      "Created http://purl.org/hucit/kb/works/3896/375\n",
      "Created http://purl.org/hucit/kb/works/3896/376\n",
      "Created http://purl.org/hucit/kb/works/3896/377\n",
      "Created http://purl.org/hucit/kb/works/3896/378\n",
      "Created http://purl.org/hucit/kb/works/3896/379\n",
      "Created http://purl.org/hucit/kb/works/3896/380\n",
      "Created http://purl.org/hucit/kb/works/3896/381\n",
      "Created http://purl.org/hucit/kb/works/3896/382\n",
      "Created http://purl.org/hucit/kb/works/3896/383\n",
      "Created http://purl.org/hucit/kb/works/3896/384\n",
      "Created http://purl.org/hucit/kb/works/3896/385\n",
      "Created http://purl.org/hucit/kb/works/3896/386\n",
      "Created http://purl.org/hucit/kb/works/3896/387\n",
      "Created http://purl.org/hucit/kb/works/3896/388\n",
      "Created http://purl.org/hucit/kb/works/3896/390\n",
      "Created http://purl.org/hucit/kb/works/3896/391\n",
      "Created http://purl.org/hucit/kb/works/3896/392\n",
      "Created http://purl.org/hucit/kb/works/3896/393\n",
      "Created http://purl.org/hucit/kb/works/3896/394\n",
      "Created http://purl.org/hucit/kb/works/3896/394a\n",
      "Created http://purl.org/hucit/kb/works/3896/395\n",
      "Created http://purl.org/hucit/kb/works/3896/396\n",
      "Created http://purl.org/hucit/kb/works/3896/397\n",
      "Created http://purl.org/hucit/kb/works/3896/400\n",
      "Created http://purl.org/hucit/kb/works/3896/400a\n",
      "Created http://purl.org/hucit/kb/works/3896/401\n",
      "Created http://purl.org/hucit/kb/works/3896/402\n",
      "Created http://purl.org/hucit/kb/works/3896/403\n",
      "Created http://purl.org/hucit/kb/works/3896/404\n",
      "Created http://purl.org/hucit/kb/works/3896/405\n",
      "Created http://purl.org/hucit/kb/works/3896/406\n",
      "Created http://purl.org/hucit/kb/works/3896/407\n",
      "Created http://purl.org/hucit/kb/works/3896/408\n",
      "Created http://purl.org/hucit/kb/works/3896/410\n",
      "Created http://purl.org/hucit/kb/works/3896/411\n",
      "Created http://purl.org/hucit/kb/works/3896/412\n",
      "Created http://purl.org/hucit/kb/works/3896/412a\n",
      "Created http://purl.org/hucit/kb/works/3896/413\n",
      "Created http://purl.org/hucit/kb/works/3896/414\n",
      "Created http://purl.org/hucit/kb/works/3896/415\n",
      "Created http://purl.org/hucit/kb/works/3896/416\n",
      "Created http://purl.org/hucit/kb/works/3896/417\n",
      "Created http://purl.org/hucit/kb/works/3896/418\n",
      "Created http://purl.org/hucit/kb/works/3896/420\n",
      "Created http://purl.org/hucit/kb/works/3896/421\n",
      "Created http://purl.org/hucit/kb/works/3896/422\n",
      "Created http://purl.org/hucit/kb/works/3896/423\n",
      "Created http://purl.org/hucit/kb/works/3896/425\n",
      "Created http://purl.org/hucit/kb/works/3896/426\n",
      "Created http://purl.org/hucit/kb/works/3896/427\n",
      "Created http://purl.org/hucit/kb/works/3896/428\n",
      "Created http://purl.org/hucit/kb/works/3896/429\n",
      "Created http://purl.org/hucit/kb/works/3896/430\n",
      "Created http://purl.org/hucit/kb/works/3896/431\n",
      "Created http://purl.org/hucit/kb/works/3896/432\n",
      "Created http://purl.org/hucit/kb/works/3896/433\n",
      "Created http://purl.org/hucit/kb/works/3896/434\n",
      "Created http://purl.org/hucit/kb/works/3896/435\n",
      "Created http://purl.org/hucit/kb/works/3896/436\n",
      "Created http://purl.org/hucit/kb/works/3896/437\n",
      "Created http://purl.org/hucit/kb/works/3896/438\n",
      "Created http://purl.org/hucit/kb/works/3896/439\n",
      "Created http://purl.org/hucit/kb/works/3896/440\n",
      "Created http://purl.org/hucit/kb/works/3896/441\n",
      "Created http://purl.org/hucit/kb/works/3896/442\n",
      "Created http://purl.org/hucit/kb/works/3896/443\n",
      "Created http://purl.org/hucit/kb/works/3896/444\n",
      "Created http://purl.org/hucit/kb/works/3896/445\n",
      "Created http://purl.org/hucit/kb/works/3896/446\n",
      "Created http://purl.org/hucit/kb/works/3896/447\n",
      "Created http://purl.org/hucit/kb/works/3896/448\n",
      "Created http://purl.org/hucit/kb/works/3896/449\n",
      "Created http://purl.org/hucit/kb/works/3896/450\n",
      "Created http://purl.org/hucit/kb/works/3896/451\n",
      "Created http://purl.org/hucit/kb/works/3896/452\n",
      "Created http://purl.org/hucit/kb/works/3896/453\n",
      "Created http://purl.org/hucit/kb/works/3896/454\n",
      "Created http://purl.org/hucit/kb/works/3896/455\n",
      "Created http://purl.org/hucit/kb/works/3896/456\n",
      "Created http://purl.org/hucit/kb/works/3896/457\n",
      "Created http://purl.org/hucit/kb/works/3896/458\n",
      "Created http://purl.org/hucit/kb/works/3896/459\n",
      "Created http://purl.org/hucit/kb/works/3896/460\n",
      "Created http://purl.org/hucit/kb/works/3896/461\n",
      "Created http://purl.org/hucit/kb/works/3896/462\n",
      "Created http://purl.org/hucit/kb/works/3896/463\n",
      "Created http://purl.org/hucit/kb/works/3896/464\n",
      "Created http://purl.org/hucit/kb/works/3896/465\n",
      "Created http://purl.org/hucit/kb/works/3896/466\n",
      "Created http://purl.org/hucit/kb/works/3896/467\n",
      "Created http://purl.org/hucit/kb/works/3896/468\n",
      "Created http://purl.org/hucit/kb/works/3896/469\n",
      "Created http://purl.org/hucit/kb/works/3896/470\n",
      "Created http://purl.org/hucit/kb/works/3896/471\n",
      "Created http://purl.org/hucit/kb/works/3896/472\n",
      "Created http://purl.org/hucit/kb/works/3896/473\n",
      "Created http://purl.org/hucit/kb/works/3896/474\n",
      "Created http://purl.org/hucit/kb/works/3896/475\n",
      "Created http://purl.org/hucit/kb/works/3896/476\n",
      "Created http://purl.org/hucit/kb/works/3896/477\n",
      "Created http://purl.org/hucit/kb/works/3896/478\n",
      "Created http://purl.org/hucit/kb/works/3896/479\n",
      "Created http://purl.org/hucit/kb/works/3896/480\n",
      "Created http://purl.org/hucit/kb/works/3896/481\n",
      "Created http://purl.org/hucit/kb/works/3896/482\n",
      "Created http://purl.org/hucit/kb/works/3896/483\n",
      "Created http://purl.org/hucit/kb/works/3896/484\n",
      "Created http://purl.org/hucit/kb/works/3896/485\n",
      "Created http://purl.org/hucit/kb/works/3896/486\n",
      "Created http://purl.org/hucit/kb/works/3896/487\n",
      "Created http://purl.org/hucit/kb/works/3896/488\n",
      "Created http://purl.org/hucit/kb/works/3896/489\n",
      "Created http://purl.org/hucit/kb/works/3896/490\n",
      "Created http://purl.org/hucit/kb/works/3896/491\n",
      "Created http://purl.org/hucit/kb/works/3896/492\n",
      "Created http://purl.org/hucit/kb/works/3896/493\n",
      "Created http://purl.org/hucit/kb/works/3896/494\n",
      "Created http://purl.org/hucit/kb/works/3896/495\n",
      "Created http://purl.org/hucit/kb/works/3896/496\n",
      "Created http://purl.org/hucit/kb/works/3896/497\n",
      "Created http://purl.org/hucit/kb/works/3896/498\n",
      "Created http://purl.org/hucit/kb/works/3896/499\n",
      "Created http://purl.org/hucit/kb/works/3896/500\n",
      "Created http://purl.org/hucit/kb/works/3896/501\n",
      "Created http://purl.org/hucit/kb/works/3896/502\n",
      "Created http://purl.org/hucit/kb/works/3896/503\n",
      "Created http://purl.org/hucit/kb/works/3896/504\n",
      "Created http://purl.org/hucit/kb/works/3896/505\n",
      "Created http://purl.org/hucit/kb/works/3896/506\n",
      "Created http://purl.org/hucit/kb/works/3896/507\n",
      "Created http://purl.org/hucit/kb/works/3896/508\n",
      "Created http://purl.org/hucit/kb/works/3896/509\n",
      "Created http://purl.org/hucit/kb/works/3896/510\n",
      "Created http://purl.org/hucit/kb/works/3896/511\n",
      "Created http://purl.org/hucit/kb/works/3896/512\n",
      "Created http://purl.org/hucit/kb/works/3896/513\n",
      "Created http://purl.org/hucit/kb/works/3896/514\n",
      "Created http://purl.org/hucit/kb/works/3896/515\n",
      "Created http://purl.org/hucit/kb/works/3896/516\n",
      "Created http://purl.org/hucit/kb/works/3896/517\n",
      "Created http://purl.org/hucit/kb/works/3896/518\n",
      "Created http://purl.org/hucit/kb/works/3896/519\n",
      "Created http://purl.org/hucit/kb/works/3896/520\n",
      "Created http://purl.org/hucit/kb/works/3896/521\n",
      "Created http://purl.org/hucit/kb/works/3896/522\n",
      "Created http://purl.org/hucit/kb/works/3896/523\n",
      "Created http://purl.org/hucit/kb/works/3896/524\n",
      "Created http://purl.org/hucit/kb/works/3896/525\n",
      "Created http://purl.org/hucit/kb/works/3896/526\n",
      "Created http://purl.org/hucit/kb/works/3896/527\n",
      "Created http://purl.org/hucit/kb/works/3896/528\n",
      "Created http://purl.org/hucit/kb/works/3896/529\n",
      "Created http://purl.org/hucit/kb/works/3896/530\n",
      "Created http://purl.org/hucit/kb/works/3896/531\n",
      "Created http://purl.org/hucit/kb/works/3896/532\n",
      "Created http://purl.org/hucit/kb/works/3896/533\n",
      "Created http://purl.org/hucit/kb/works/3896/534\n",
      "Created http://purl.org/hucit/kb/works/3896/535\n",
      "Created http://purl.org/hucit/kb/works/3896/536\n",
      "Created http://purl.org/hucit/kb/works/3896/537\n",
      "Created http://purl.org/hucit/kb/works/3896/538\n",
      "Created http://purl.org/hucit/kb/works/3896/539\n",
      "Created http://purl.org/hucit/kb/works/3896/540\n",
      "Created http://purl.org/hucit/kb/works/3896/541\n",
      "Created http://purl.org/hucit/kb/works/3896/542\n"
     ]
    },
    {
     "name": "stdout",
     "output_type": "stream",
     "text": [
      "Created http://purl.org/hucit/kb/works/3896/543\n",
      "Created http://purl.org/hucit/kb/works/3896/544\n",
      "Created http://purl.org/hucit/kb/works/3896/545\n",
      "Created http://purl.org/hucit/kb/works/3896/546\n",
      "Created http://purl.org/hucit/kb/works/3896/547\n",
      "Created http://purl.org/hucit/kb/works/3896/548\n",
      "Created http://purl.org/hucit/kb/works/3896/549\n",
      "Created http://purl.org/hucit/kb/works/3896/550\n",
      "Created http://purl.org/hucit/kb/works/3896/551\n",
      "Created http://purl.org/hucit/kb/works/3896/552\n",
      "Created http://purl.org/hucit/kb/works/3896/553\n",
      "Created http://purl.org/hucit/kb/works/3896/554\n",
      "Created http://purl.org/hucit/kb/works/3896/554a\n",
      "Created http://purl.org/hucit/kb/works/3896/555\n",
      "Created http://purl.org/hucit/kb/works/3896/556\n",
      "Created http://purl.org/hucit/kb/works/3896/557\n",
      "Created http://purl.org/hucit/kb/works/3896/558\n",
      "Created http://purl.org/hucit/kb/works/3896/559\n",
      "Created http://purl.org/hucit/kb/works/3896/560\n",
      "Created http://purl.org/hucit/kb/works/3896/561\n",
      "Created http://purl.org/hucit/kb/works/3896/562\n",
      "Created http://purl.org/hucit/kb/works/3896/563\n",
      "Created http://purl.org/hucit/kb/works/3896/564\n",
      "Created http://purl.org/hucit/kb/works/3896/565\n",
      "Created http://purl.org/hucit/kb/works/3896/566\n",
      "Created http://purl.org/hucit/kb/works/3896/567\n",
      "Created http://purl.org/hucit/kb/works/3896/568\n",
      "Created http://purl.org/hucit/kb/works/3896/569\n",
      "Created http://purl.org/hucit/kb/works/3896/570\n",
      "Created http://purl.org/hucit/kb/works/3896/571\n",
      "Created http://purl.org/hucit/kb/works/3896/572\n",
      "Created http://purl.org/hucit/kb/works/3896/573\n",
      "Created http://purl.org/hucit/kb/works/3896/574\n",
      "Created http://purl.org/hucit/kb/works/3896/575\n",
      "Created http://purl.org/hucit/kb/works/3896/576\n",
      "Created http://purl.org/hucit/kb/works/3896/577\n",
      "Created http://purl.org/hucit/kb/works/3896/578\n",
      "Created http://purl.org/hucit/kb/works/3896/579\n",
      "Created http://purl.org/hucit/kb/works/3896/580\n",
      "Created http://purl.org/hucit/kb/works/3896/581\n",
      "Created http://purl.org/hucit/kb/works/3896/582\n",
      "Created http://purl.org/hucit/kb/works/3896/583\n",
      "Created http://purl.org/hucit/kb/works/3896/584\n",
      "Created http://purl.org/hucit/kb/works/3896/585\n",
      "Created http://purl.org/hucit/kb/works/3896/586\n",
      "Created http://purl.org/hucit/kb/works/3896/587\n",
      "Created http://purl.org/hucit/kb/works/3896/588\n",
      "Created http://purl.org/hucit/kb/works/3896/589\n",
      "Created http://purl.org/hucit/kb/works/3896/590\n",
      "Created http://purl.org/hucit/kb/works/3896/591\n",
      "Created http://purl.org/hucit/kb/works/3896/591a\n",
      "Created http://purl.org/hucit/kb/works/3896/592\n",
      "Created http://purl.org/hucit/kb/works/3896/592a\n",
      "Created http://purl.org/hucit/kb/works/3896/593\n",
      "Created http://purl.org/hucit/kb/works/3896/593a\n",
      "Created http://purl.org/hucit/kb/works/3896/594\n",
      "Created http://purl.org/hucit/kb/works/3896/594a\n",
      "Created http://purl.org/hucit/kb/works/3896/595\n",
      "Created http://purl.org/hucit/kb/works/3896/596\n",
      "Created http://purl.org/hucit/kb/works/3896/597\n",
      "Created http://purl.org/hucit/kb/works/3896/598\n",
      "Created http://purl.org/hucit/kb/works/3896/600\n",
      "Created http://purl.org/hucit/kb/works/3896/601\n",
      "Created http://purl.org/hucit/kb/works/3896/602\n",
      "Created http://purl.org/hucit/kb/works/3896/605\n",
      "Created http://purl.org/hucit/kb/works/3896/606\n",
      "Created http://purl.org/hucit/kb/works/3896/607\n",
      "Created http://purl.org/hucit/kb/works/3896/608\n",
      "Created http://purl.org/hucit/kb/works/3896/609\n",
      "Created http://purl.org/hucit/kb/works/3896/610\n",
      "Created http://purl.org/hucit/kb/works/3896/611\n",
      "Created http://purl.org/hucit/kb/works/3896/612\n",
      "Created http://purl.org/hucit/kb/works/3896/613\n",
      "Created http://purl.org/hucit/kb/works/3896/615\n",
      "Created http://purl.org/hucit/kb/works/3896/616\n",
      "Created http://purl.org/hucit/kb/works/3896/617\n",
      "Created http://purl.org/hucit/kb/works/3896/620\n",
      "Created http://purl.org/hucit/kb/works/3896/621\n",
      "Created http://purl.org/hucit/kb/works/3896/622\n",
      "Created http://purl.org/hucit/kb/works/3896/625\n",
      "Created http://purl.org/hucit/kb/works/3896/626\n",
      "Created http://purl.org/hucit/kb/works/3896/627\n",
      "Created http://purl.org/hucit/kb/works/3896/628\n",
      "Created http://purl.org/hucit/kb/works/3896/630\n",
      "Created http://purl.org/hucit/kb/works/3896/631\n",
      "Created http://purl.org/hucit/kb/works/3896/632\n",
      "Created http://purl.org/hucit/kb/works/3896/633\n",
      "Created http://purl.org/hucit/kb/works/3896/635\n",
      "Created http://purl.org/hucit/kb/works/3896/636\n",
      "Created http://purl.org/hucit/kb/works/3896/637\n",
      "Created http://purl.org/hucit/kb/works/3896/638\n",
      "Created http://purl.org/hucit/kb/works/3896/640\n",
      "Created http://purl.org/hucit/kb/works/3896/641\n",
      "Created http://purl.org/hucit/kb/works/3896/642\n",
      "Created http://purl.org/hucit/kb/works/3896/643\n",
      "Created http://purl.org/hucit/kb/works/3896/645\n",
      "Created http://purl.org/hucit/kb/works/3896/646\n",
      "Created http://purl.org/hucit/kb/works/3896/647\n",
      "Created http://purl.org/hucit/kb/works/3896/648\n",
      "Created http://purl.org/hucit/kb/works/3896/649\n",
      "Created http://purl.org/hucit/kb/works/3896/650\n",
      "Created http://purl.org/hucit/kb/works/3896/651\n",
      "Created http://purl.org/hucit/kb/works/3896/652\n",
      "Created http://purl.org/hucit/kb/works/3896/653\n",
      "Created http://purl.org/hucit/kb/works/3896/654\n",
      "Created http://purl.org/hucit/kb/works/3896/655\n",
      "Created http://purl.org/hucit/kb/works/3896/656\n",
      "Created http://purl.org/hucit/kb/works/3896/657\n",
      "Created http://purl.org/hucit/kb/works/3896/658\n",
      "Created http://purl.org/hucit/kb/works/3896/659\n",
      "Created http://purl.org/hucit/kb/works/3896/660\n",
      "Created http://purl.org/hucit/kb/works/3896/661\n",
      "Created http://purl.org/hucit/kb/works/3896/662\n",
      "Created http://purl.org/hucit/kb/works/3896/663\n",
      "Created http://purl.org/hucit/kb/works/3896/664\n",
      "Created http://purl.org/hucit/kb/works/3896/665\n",
      "Created http://purl.org/hucit/kb/works/3896/666\n",
      "Created http://purl.org/hucit/kb/works/3896/667\n",
      "Created http://purl.org/hucit/kb/works/3896/668\n",
      "Created http://purl.org/hucit/kb/works/3896/669\n",
      "Created http://purl.org/hucit/kb/works/3896/670\n",
      "Created http://purl.org/hucit/kb/works/3896/671\n",
      "Created http://purl.org/hucit/kb/works/3896/672\n",
      "Created http://purl.org/hucit/kb/works/3896/673\n",
      "Created http://purl.org/hucit/kb/works/3896/674\n",
      "Created http://purl.org/hucit/kb/works/3896/675\n",
      "Created http://purl.org/hucit/kb/works/3896/676\n",
      "Created http://purl.org/hucit/kb/works/3896/677\n",
      "Created http://purl.org/hucit/kb/works/3896/678\n",
      "Created http://purl.org/hucit/kb/works/3896/679\n",
      "Created http://purl.org/hucit/kb/works/3896/680\n",
      "Created http://purl.org/hucit/kb/works/3896/681\n",
      "Created http://purl.org/hucit/kb/works/3896/682\n",
      "Created http://purl.org/hucit/kb/works/3896/683\n",
      "Created http://purl.org/hucit/kb/works/3896/684\n",
      "Created http://purl.org/hucit/kb/works/3896/685\n",
      "Created http://purl.org/hucit/kb/works/3896/686\n",
      "Created http://purl.org/hucit/kb/works/3896/687\n",
      "Created http://purl.org/hucit/kb/works/3896/688\n",
      "Created http://purl.org/hucit/kb/works/3896/689\n",
      "Created http://purl.org/hucit/kb/works/3896/690\n",
      "Created http://purl.org/hucit/kb/works/3896/691\n",
      "Created http://purl.org/hucit/kb/works/3896/692\n",
      "Created http://purl.org/hucit/kb/works/3896/693\n",
      "Created http://purl.org/hucit/kb/works/3896/694\n",
      "Created http://purl.org/hucit/kb/works/3896/695\n",
      "Created http://purl.org/hucit/kb/works/3896/696\n",
      "Created http://purl.org/hucit/kb/works/3896/697\n",
      "Created http://purl.org/hucit/kb/works/3896/700\n",
      "Created http://purl.org/hucit/kb/works/3896/701\n",
      "Created http://purl.org/hucit/kb/works/3896/702\n",
      "Created http://purl.org/hucit/kb/works/3896/705\n",
      "Created http://purl.org/hucit/kb/works/3896/706\n",
      "Created http://purl.org/hucit/kb/works/3896/707\n",
      "Created http://purl.org/hucit/kb/works/3896/708\n",
      "Created http://purl.org/hucit/kb/works/3896/709\n",
      "Created http://purl.org/hucit/kb/works/3896/710\n",
      "Created http://purl.org/hucit/kb/works/3896/711\n",
      "Created http://purl.org/hucit/kb/works/3896/712\n",
      "Created http://purl.org/hucit/kb/works/3896/713\n",
      "Created http://purl.org/hucit/kb/works/3896/715\n",
      "Created http://purl.org/hucit/kb/works/3896/716\n",
      "Created http://purl.org/hucit/kb/works/3896/717\n",
      "Created http://purl.org/hucit/kb/works/3896/719\n",
      "Created http://purl.org/hucit/kb/works/3896/720\n",
      "Created http://purl.org/hucit/kb/works/3896/721\n",
      "Created http://purl.org/hucit/kb/works/3896/722\n",
      "Created http://purl.org/hucit/kb/works/3896/723\n",
      "Created http://purl.org/hucit/kb/works/3896/724\n",
      "Created http://purl.org/hucit/kb/works/3896/725\n",
      "Created http://purl.org/hucit/kb/works/3896/726\n"
     ]
    },
    {
     "name": "stdout",
     "output_type": "stream",
     "text": [
      "Created http://purl.org/hucit/kb/works/3896/727\n",
      "Created http://purl.org/hucit/kb/works/3896/728\n",
      "Created http://purl.org/hucit/kb/works/3896/729\n",
      "Created http://purl.org/hucit/kb/works/3896/730\n",
      "Created http://purl.org/hucit/kb/works/3896/731\n",
      "Created http://purl.org/hucit/kb/works/3896/732\n",
      "Created http://purl.org/hucit/kb/works/3896/733\n",
      "Created http://purl.org/hucit/kb/works/3896/734\n",
      "Created http://purl.org/hucit/kb/works/3896/735\n",
      "Created http://purl.org/hucit/kb/works/3896/736\n",
      "Created http://purl.org/hucit/kb/works/3896/737\n",
      "Created http://purl.org/hucit/kb/works/3896/738\n",
      "Created http://purl.org/hucit/kb/works/3896/739\n",
      "Created http://purl.org/hucit/kb/works/3896/740\n",
      "Created http://purl.org/hucit/kb/works/3896/741\n",
      "Created http://purl.org/hucit/kb/works/3896/742\n",
      "Created http://purl.org/hucit/kb/works/3896/743\n",
      "Created http://purl.org/hucit/kb/works/3896/744\n",
      "Created http://purl.org/hucit/kb/works/3896/745\n",
      "Created http://purl.org/hucit/kb/works/3896/746\n",
      "Created http://purl.org/hucit/kb/works/3896/747\n",
      "Created http://purl.org/hucit/kb/works/3896/748\n",
      "Created http://purl.org/hucit/kb/works/3896/749\n",
      "Created http://purl.org/hucit/kb/works/3896/750\n",
      "Created http://purl.org/hucit/kb/works/3896/751\n",
      "Created http://purl.org/hucit/kb/works/3896/752\n",
      "Created http://purl.org/hucit/kb/works/3896/753\n",
      "Created http://purl.org/hucit/kb/works/3896/754\n",
      "Created http://purl.org/hucit/kb/works/3896/755\n",
      "Created http://purl.org/hucit/kb/works/3896/756\n",
      "Created http://purl.org/hucit/kb/works/3896/757\n",
      "Created http://purl.org/hucit/kb/works/3896/758\n",
      "Created http://purl.org/hucit/kb/works/3896/759\n",
      "Created http://purl.org/hucit/kb/works/3896/760\n",
      "Created http://purl.org/hucit/kb/works/3896/761\n",
      "Created http://purl.org/hucit/kb/works/3896/762\n",
      "Created http://purl.org/hucit/kb/works/3896/763\n",
      "Created http://purl.org/hucit/kb/works/3896/764\n",
      "Created http://purl.org/hucit/kb/works/3896/765\n",
      "Created http://purl.org/hucit/kb/works/3896/766\n",
      "Created http://purl.org/hucit/kb/works/3896/767\n",
      "Created http://purl.org/hucit/kb/works/3896/768\n",
      "Created http://purl.org/hucit/kb/works/3896/769\n",
      "Created http://purl.org/hucit/kb/works/3896/770\n",
      "Created http://purl.org/hucit/kb/works/3896/771\n",
      "Created http://purl.org/hucit/kb/works/3896/772\n",
      "Created http://purl.org/hucit/kb/works/3896/773\n",
      "Created http://purl.org/hucit/kb/works/3896/774\n",
      "Created http://purl.org/hucit/kb/works/3896/775\n",
      "Created http://purl.org/hucit/kb/works/3896/776\n",
      "Created http://purl.org/hucit/kb/works/3896/777\n",
      "Created http://purl.org/hucit/kb/works/3896/778\n",
      "Created http://purl.org/hucit/kb/works/3896/779\n",
      "Created http://purl.org/hucit/kb/works/3896/780\n",
      "Created http://purl.org/hucit/kb/works/3896/781\n",
      "Created http://purl.org/hucit/kb/works/3896/782\n",
      "Created http://purl.org/hucit/kb/works/3896/783\n",
      "Created http://purl.org/hucit/kb/works/3896/784\n",
      "Created http://purl.org/hucit/kb/works/3896/785\n",
      "Created http://purl.org/hucit/kb/works/3896/786\n",
      "Created http://purl.org/hucit/kb/works/3896/787\n",
      "Created http://purl.org/hucit/kb/works/3896/788\n",
      "Created http://purl.org/hucit/kb/works/3896/789\n",
      "Created http://purl.org/hucit/kb/works/3896/790\n",
      "Created http://purl.org/hucit/kb/works/3896/791\n",
      "Created http://purl.org/hucit/kb/works/3896/792\n",
      "Created http://purl.org/hucit/kb/works/3896/793\n",
      "Created http://purl.org/hucit/kb/works/3896/794\n",
      "Created http://purl.org/hucit/kb/works/3896/795\n",
      "Created http://purl.org/hucit/kb/works/3896/796\n",
      "Created http://purl.org/hucit/kb/works/3896/797\n",
      "Created http://purl.org/hucit/kb/works/3896/798\n",
      "Created http://purl.org/hucit/kb/works/3896/799\n",
      "Created http://purl.org/hucit/kb/works/3896/800\n",
      "Created http://purl.org/hucit/kb/works/3896/801\n",
      "Created http://purl.org/hucit/kb/works/3896/802\n",
      "Created http://purl.org/hucit/kb/works/3896/803\n",
      "Created http://purl.org/hucit/kb/works/3896/804\n",
      "Created http://purl.org/hucit/kb/works/3896/805\n",
      "Created http://purl.org/hucit/kb/works/3896/806\n",
      "Created http://purl.org/hucit/kb/works/3896/807\n",
      "Created http://purl.org/hucit/kb/works/3896/808\n",
      "Created http://purl.org/hucit/kb/works/3896/809\n",
      "Created http://purl.org/hucit/kb/works/3896/810\n",
      "Created http://purl.org/hucit/kb/works/3896/811\n",
      "Created http://purl.org/hucit/kb/works/3896/812\n",
      "Created http://purl.org/hucit/kb/works/3896/813\n",
      "Created http://purl.org/hucit/kb/works/3896/814\n",
      "Created http://purl.org/hucit/kb/works/3896/815\n",
      "Created http://purl.org/hucit/kb/works/3896/816\n",
      "Created http://purl.org/hucit/kb/works/3896/817\n",
      "Created http://purl.org/hucit/kb/works/3896/818\n",
      "Created http://purl.org/hucit/kb/works/3896/819\n",
      "Created http://purl.org/hucit/kb/works/3896/820\n",
      "Created http://purl.org/hucit/kb/works/3896/821\n",
      "Created http://purl.org/hucit/kb/works/3896/822\n",
      "Created http://purl.org/hucit/kb/works/3896/823\n",
      "Created http://purl.org/hucit/kb/works/3896/824\n",
      "Created http://purl.org/hucit/kb/works/3896/825\n",
      "Created http://purl.org/hucit/kb/works/3896/826\n",
      "Created http://purl.org/hucit/kb/works/3896/827\n",
      "Created http://purl.org/hucit/kb/works/3896/828\n",
      "Created http://purl.org/hucit/kb/works/3896/829\n",
      "Created http://purl.org/hucit/kb/works/3896/830\n",
      "Created http://purl.org/hucit/kb/works/3896/831\n",
      "Created http://purl.org/hucit/kb/works/3896/832\n",
      "Created http://purl.org/hucit/kb/works/3896/833\n",
      "Created http://purl.org/hucit/kb/works/3896/834\n",
      "Created http://purl.org/hucit/kb/works/3896/835\n",
      "Created http://purl.org/hucit/kb/works/3896/836\n",
      "Created http://purl.org/hucit/kb/works/3896/837\n",
      "Created http://purl.org/hucit/kb/works/3896/838\n",
      "Created http://purl.org/hucit/kb/works/3896/839\n",
      "Created http://purl.org/hucit/kb/works/3896/840\n",
      "Created http://purl.org/hucit/kb/works/3896/841\n",
      "Created http://purl.org/hucit/kb/works/3896/842\n",
      "Created http://purl.org/hucit/kb/works/3896/843\n",
      "Created http://purl.org/hucit/kb/works/3896/844\n",
      "Created http://purl.org/hucit/kb/works/3896/845\n",
      "Created http://purl.org/hucit/kb/works/3896/846\n",
      "Created http://purl.org/hucit/kb/works/3896/847\n",
      "Created http://purl.org/hucit/kb/works/3896/848\n",
      "Created http://purl.org/hucit/kb/works/3896/849\n",
      "Created http://purl.org/hucit/kb/works/3896/850\n",
      "Created http://purl.org/hucit/kb/works/3896/851\n",
      "Created http://purl.org/hucit/kb/works/3896/852\n",
      "Created http://purl.org/hucit/kb/works/3896/853\n",
      "Created http://purl.org/hucit/kb/works/3896/854\n",
      "Created http://purl.org/hucit/kb/works/3896/855\n",
      "Created http://purl.org/hucit/kb/works/3896/856\n",
      "Created http://purl.org/hucit/kb/works/3896/857\n",
      "Created http://purl.org/hucit/kb/works/3896/858\n",
      "Created http://purl.org/hucit/kb/works/3896/859\n",
      "Created http://purl.org/hucit/kb/works/3896/860\n",
      "Created http://purl.org/hucit/kb/works/3896/861\n",
      "Created http://purl.org/hucit/kb/works/3896/862\n",
      "Created http://purl.org/hucit/kb/works/3896/863\n",
      "Created http://purl.org/hucit/kb/works/3896/864\n",
      "Created http://purl.org/hucit/kb/works/3896/865\n",
      "Created http://purl.org/hucit/kb/works/3896/866\n",
      "Created http://purl.org/hucit/kb/works/3896/867\n",
      "Created http://purl.org/hucit/kb/works/3896/868\n",
      "Created http://purl.org/hucit/kb/works/3896/869\n",
      "Created http://purl.org/hucit/kb/works/3896/870\n",
      "Created http://purl.org/hucit/kb/works/3896/871\n",
      "Created http://purl.org/hucit/kb/works/3896/872\n",
      "Created http://purl.org/hucit/kb/works/3896/873\n",
      "Created http://purl.org/hucit/kb/works/3896/874\n",
      "Created http://purl.org/hucit/kb/works/3896/875\n",
      "Created http://purl.org/hucit/kb/works/3896/876\n",
      "Created http://purl.org/hucit/kb/works/3896/877\n",
      "Created http://purl.org/hucit/kb/works/3896/878\n",
      "Created http://purl.org/hucit/kb/works/3896/879\n",
      "Created http://purl.org/hucit/kb/works/3896/880\n",
      "Created http://purl.org/hucit/kb/works/3896/883\n",
      "Created http://purl.org/hucit/kb/works/3896/884\n",
      "Created http://purl.org/hucit/kb/works/3896/885\n",
      "Created http://purl.org/hucit/kb/works/3896/886\n",
      "Created http://purl.org/hucit/kb/works/3896/887\n",
      "Created http://purl.org/hucit/kb/works/3896/888\n",
      "Created http://purl.org/hucit/kb/works/3896/890\n",
      "Created http://purl.org/hucit/kb/works/3896/891\n",
      "Created http://purl.org/hucit/kb/works/3896/892\n",
      "Created http://purl.org/hucit/kb/works/3896/893\n",
      "Created http://purl.org/hucit/kb/works/3896/894\n",
      "Created http://purl.org/hucit/kb/works/3896/895\n",
      "Created http://purl.org/hucit/kb/works/3896/896\n",
      "Created http://purl.org/hucit/kb/works/3896/897\n",
      "Created http://purl.org/hucit/kb/works/3896/898\n",
      "Created http://purl.org/hucit/kb/works/3896/899\n",
      "Created http://purl.org/hucit/kb/works/3896/900\n"
     ]
    },
    {
     "name": "stdout",
     "output_type": "stream",
     "text": [
      "Created http://purl.org/hucit/kb/works/3896/901\n",
      "Created http://purl.org/hucit/kb/works/3896/902\n",
      "Created http://purl.org/hucit/kb/works/3896/903\n",
      "Created http://purl.org/hucit/kb/works/3896/904\n",
      "Created http://purl.org/hucit/kb/works/3896/905\n",
      "Created http://purl.org/hucit/kb/works/3896/906\n",
      "Created http://purl.org/hucit/kb/works/3896/907\n",
      "Created http://purl.org/hucit/kb/works/3896/911\n",
      "Created http://purl.org/hucit/kb/works/3896/912\n",
      "Created http://purl.org/hucit/kb/works/3896/913\n",
      "Created http://purl.org/hucit/kb/works/3896/914\n",
      "Created http://purl.org/hucit/kb/works/3896/915\n",
      "Created http://purl.org/hucit/kb/works/3896/916\n",
      "Created http://purl.org/hucit/kb/works/3896/917\n",
      "Created http://purl.org/hucit/kb/works/3896/918\n",
      "Created http://purl.org/hucit/kb/works/3896/920\n",
      "Created http://purl.org/hucit/kb/works/3896/921\n",
      "Created http://purl.org/hucit/kb/works/3896/922\n",
      "Created http://purl.org/hucit/kb/works/3896/923\n",
      "Created http://purl.org/hucit/kb/works/3896/924\n",
      "Created http://purl.org/hucit/kb/works/3896/925\n",
      "Created http://purl.org/hucit/kb/works/3896/926\n",
      "Created http://purl.org/hucit/kb/works/3896/927\n",
      "Created http://purl.org/hucit/kb/works/3896/930\n",
      "Created http://purl.org/hucit/kb/works/3896/931\n",
      "Created http://purl.org/hucit/kb/works/3896/932\n",
      "Created http://purl.org/hucit/kb/works/3896/933\n",
      "Created http://purl.org/hucit/kb/works/3896/934\n",
      "Created http://purl.org/hucit/kb/works/3896/935\n",
      "Created http://purl.org/hucit/kb/works/3896/936\n",
      "Created http://purl.org/hucit/kb/works/3896/937\n",
      "Created http://purl.org/hucit/kb/works/3896/938\n",
      "Created http://purl.org/hucit/kb/works/3896/939\n",
      "Created http://purl.org/hucit/kb/works/3896/940\n",
      "Created http://purl.org/hucit/kb/works/3896/941\n",
      "Created http://purl.org/hucit/kb/works/3896/942\n",
      "Created http://purl.org/hucit/kb/works/3896/943\n",
      "Created http://purl.org/hucit/kb/works/3896/944\n",
      "Created http://purl.org/hucit/kb/works/3896/945\n",
      "Created http://purl.org/hucit/kb/works/3896/946\n",
      "Created http://purl.org/hucit/kb/works/3896/947\n",
      "Created http://purl.org/hucit/kb/works/3896/948\n",
      "Created http://purl.org/hucit/kb/works/3896/949\n",
      "Created http://purl.org/hucit/kb/works/3896/950\n",
      "Created http://purl.org/hucit/kb/works/3896/951\n",
      "Created http://purl.org/hucit/kb/works/3896/952\n",
      "Created http://purl.org/hucit/kb/works/3896/953\n",
      "Created http://purl.org/hucit/kb/works/3896/954\n",
      "Created http://purl.org/hucit/kb/works/3896/955\n",
      "Created http://purl.org/hucit/kb/works/3896/956\n",
      "Created http://purl.org/hucit/kb/works/3896/960\n",
      "Created http://purl.org/hucit/kb/works/3896/961\n",
      "Created http://purl.org/hucit/kb/works/3896/962\n",
      "Created http://purl.org/hucit/kb/works/3896/963\n"
     ]
    },
    {
     "ename": "KeyboardInterrupt",
     "evalue": "",
     "output_type": "error",
     "traceback": [
      "\u001b[0;31m---------------------------------------------------------------------------\u001b[0m",
      "\u001b[0;31mKeyboardInterrupt\u001b[0m                         Traceback (most recent call last)",
      "\u001b[0;32m<ipython-input-102-c1f3e9bc6fac>\u001b[0m in \u001b[0;36m<module>\u001b[0;34m\u001b[0m\n\u001b[0;32m----> 1\u001b[0;31m \u001b[0mpopulate_text_structure\u001b[0m\u001b[0;34m(\u001b[0m\u001b[0mkb\u001b[0m\u001b[0;34m,\u001b[0m \u001b[0mwork_obj\u001b[0m\u001b[0;34m,\u001b[0m \u001b[0mtext_structure_dict\u001b[0m\u001b[0;34m)\u001b[0m\u001b[0;34m\u001b[0m\u001b[0;34m\u001b[0m\u001b[0m\n\u001b[0m",
      "\u001b[0;32m<ipython-input-100-88799c4e612b>\u001b[0m in \u001b[0;36mpopulate_text_structure\u001b[0;34m(kb, work, ts)\u001b[0m\n\u001b[1;32m     35\u001b[0m         \u001b[0;32mfor\u001b[0m \u001b[0mtext_element_dict\u001b[0m \u001b[0;32min\u001b[0m \u001b[0mts\u001b[0m\u001b[0;34m[\u001b[0m\u001b[0;34m'valid_reffs'\u001b[0m\u001b[0;34m]\u001b[0m\u001b[0;34m[\u001b[0m\u001b[0mstr\u001b[0m\u001b[0;34m(\u001b[0m\u001b[0mtext_level_n\u001b[0m\u001b[0;34m)\u001b[0m\u001b[0;34m]\u001b[0m\u001b[0;34m:\u001b[0m\u001b[0;34m\u001b[0m\u001b[0;34m\u001b[0m\u001b[0m\n\u001b[1;32m     36\u001b[0m \u001b[0;34m\u001b[0m\u001b[0m\n\u001b[0;32m---> 37\u001b[0;31m             ts_obj.create_element(\n\u001b[0m\u001b[1;32m     38\u001b[0m                 \u001b[0murn\u001b[0m\u001b[0;34m=\u001b[0m\u001b[0mtext_element_dict\u001b[0m\u001b[0;34m[\u001b[0m\u001b[0;34m'current'\u001b[0m\u001b[0;34m]\u001b[0m\u001b[0;34m,\u001b[0m\u001b[0;34m\u001b[0m\u001b[0;34m\u001b[0m\u001b[0m\n\u001b[1;32m     39\u001b[0m                 \u001b[0melement_type\u001b[0m\u001b[0;34m=\u001b[0m\u001b[0melement_type_obj\u001b[0m\u001b[0;34m,\u001b[0m\u001b[0;34m\u001b[0m\u001b[0;34m\u001b[0m\u001b[0m\n",
      "\u001b[0;32m~/Documents/ClassicsCitations/hucitlib/hucitlib/surfext/__init__.py\u001b[0m in \u001b[0;36mcreate_element\u001b[0;34m(self, urn, element_type, parent_urn, previous_urn, following_urn)\u001b[0m\n\u001b[1;32m    395\u001b[0m \u001b[0;34m\u001b[0m\u001b[0m\n\u001b[1;32m    396\u001b[0m         \u001b[0murn\u001b[0m \u001b[0;34m=\u001b[0m \u001b[0mCTS_URN\u001b[0m\u001b[0;34m(\u001b[0m\u001b[0murn\u001b[0m\u001b[0;34m)\u001b[0m\u001b[0;34m\u001b[0m\u001b[0;34m\u001b[0m\u001b[0m\n\u001b[0;32m--> 397\u001b[0;31m         \u001b[0melement_uri\u001b[0m \u001b[0;34m=\u001b[0m \u001b[0mos\u001b[0m\u001b[0;34m.\u001b[0m\u001b[0mpath\u001b[0m\u001b[0;34m.\u001b[0m\u001b[0mjoin\u001b[0m\u001b[0;34m(\u001b[0m\u001b[0mself\u001b[0m\u001b[0;34m.\u001b[0m\u001b[0mwork\u001b[0m\u001b[0;34m.\u001b[0m\u001b[0msubject\u001b[0m\u001b[0;34m,\u001b[0m \u001b[0murn\u001b[0m\u001b[0;34m.\u001b[0m\u001b[0mpassage_component\u001b[0m\u001b[0;34m)\u001b[0m\u001b[0;34m\u001b[0m\u001b[0;34m\u001b[0m\u001b[0m\n\u001b[0m\u001b[1;32m    398\u001b[0m         \u001b[0mprint\u001b[0m\u001b[0;34m(\u001b[0m\u001b[0;34mf\"Created {element_uri}\"\u001b[0m\u001b[0;34m)\u001b[0m\u001b[0;34m\u001b[0m\u001b[0;34m\u001b[0m\u001b[0m\n\u001b[1;32m    399\u001b[0m \u001b[0;34m\u001b[0m\u001b[0m\n",
      "\u001b[0;32m~/Documents/ClassicsCitations/hucitlib/hucitlib/surfext/__init__.py\u001b[0m in \u001b[0;36mwork\u001b[0;34m(self)\u001b[0m\n\u001b[1;32m    404\u001b[0m         \u001b[0;34m\"\"\"Returns the parent object (`HucitWork`).\"\"\"\u001b[0m\u001b[0;34m\u001b[0m\u001b[0;34m\u001b[0m\u001b[0m\n\u001b[1;32m    405\u001b[0m         \u001b[0mWork\u001b[0m \u001b[0;34m=\u001b[0m \u001b[0mself\u001b[0m\u001b[0;34m.\u001b[0m\u001b[0msession\u001b[0m\u001b[0;34m.\u001b[0m\u001b[0mget_class\u001b[0m\u001b[0;34m(\u001b[0m\u001b[0msurf\u001b[0m\u001b[0;34m.\u001b[0m\u001b[0mns\u001b[0m\u001b[0;34m.\u001b[0m\u001b[0mEFRBROO\u001b[0m\u001b[0;34m[\u001b[0m\u001b[0;34m\"F1_Work\"\u001b[0m\u001b[0;34m]\u001b[0m\u001b[0;34m)\u001b[0m\u001b[0;34m\u001b[0m\u001b[0;34m\u001b[0m\u001b[0m\n\u001b[0;32m--> 406\u001b[0;31m         \u001b[0;32mreturn\u001b[0m \u001b[0mWork\u001b[0m\u001b[0;34m.\u001b[0m\u001b[0mget_by\u001b[0m\u001b[0;34m(\u001b[0m\u001b[0mhucit_has_structure\u001b[0m\u001b[0;34m=\u001b[0m\u001b[0mself\u001b[0m\u001b[0;34m)\u001b[0m\u001b[0;34m.\u001b[0m\u001b[0mfirst\u001b[0m\u001b[0;34m(\u001b[0m\u001b[0;34m)\u001b[0m\u001b[0;34m\u001b[0m\u001b[0;34m\u001b[0m\u001b[0m\n\u001b[0m\u001b[1;32m    407\u001b[0m \u001b[0;34m\u001b[0m\u001b[0m\n\u001b[1;32m    408\u001b[0m \u001b[0;34m\u001b[0m\u001b[0m\n",
      "\u001b[0;32m~/.pyenv/versions/3.8.0/envs/hucitlib-dev/lib/python3.8/site-packages/surf/resource/result_proxy.py\u001b[0m in \u001b[0;36mfirst\u001b[0;34m(self)\u001b[0m\n\u001b[1;32m    241\u001b[0m         \u001b[0mitem\u001b[0m \u001b[0;34m=\u001b[0m \u001b[0;32mNone\u001b[0m\u001b[0;34m\u001b[0m\u001b[0;34m\u001b[0m\u001b[0m\n\u001b[1;32m    242\u001b[0m         \u001b[0;32mtry\u001b[0m\u001b[0;34m:\u001b[0m\u001b[0;34m\u001b[0m\u001b[0;34m\u001b[0m\u001b[0m\n\u001b[0;32m--> 243\u001b[0;31m             \u001b[0mitem\u001b[0m \u001b[0;34m=\u001b[0m \u001b[0mnext\u001b[0m\u001b[0;34m(\u001b[0m\u001b[0miter\u001b[0m\u001b[0;34m(\u001b[0m\u001b[0mself\u001b[0m\u001b[0;34m)\u001b[0m\u001b[0;34m)\u001b[0m\u001b[0;34m\u001b[0m\u001b[0;34m\u001b[0m\u001b[0m\n\u001b[0m\u001b[1;32m    244\u001b[0m         \u001b[0;32mexcept\u001b[0m \u001b[0mStopIteration\u001b[0m\u001b[0;34m:\u001b[0m\u001b[0;34m\u001b[0m\u001b[0;34m\u001b[0m\u001b[0m\n\u001b[1;32m    245\u001b[0m             \u001b[0;32mpass\u001b[0m\u001b[0;34m\u001b[0m\u001b[0;34m\u001b[0m\u001b[0m\n",
      "\u001b[0;32m~/.pyenv/versions/3.8.0/envs/hucitlib-dev/lib/python3.8/site-packages/surf/resource/result_proxy.py\u001b[0m in \u001b[0;36m__iterator\u001b[0;34m(self)\u001b[0m\n\u001b[1;32m    219\u001b[0m \u001b[0;34m\u001b[0m\u001b[0m\n\u001b[1;32m    220\u001b[0m     \u001b[0;32mdef\u001b[0m \u001b[0m__iterator\u001b[0m\u001b[0;34m(\u001b[0m\u001b[0mself\u001b[0m\u001b[0;34m)\u001b[0m\u001b[0;34m:\u001b[0m\u001b[0;34m\u001b[0m\u001b[0;34m\u001b[0m\u001b[0m\n\u001b[0;32m--> 221\u001b[0;31m         \u001b[0mget_by_args\u001b[0m\u001b[0;34m,\u001b[0m \u001b[0mget_by_response\u001b[0m \u001b[0;34m=\u001b[0m \u001b[0mself\u001b[0m\u001b[0;34m.\u001b[0m\u001b[0m__execute_get_by\u001b[0m\u001b[0;34m(\u001b[0m\u001b[0;34m)\u001b[0m\u001b[0;34m\u001b[0m\u001b[0;34m\u001b[0m\u001b[0m\n\u001b[0m\u001b[1;32m    222\u001b[0m \u001b[0;34m\u001b[0m\u001b[0m\n\u001b[1;32m    223\u001b[0m         \u001b[0minstance_factory\u001b[0m \u001b[0;34m=\u001b[0m \u001b[0mself\u001b[0m\u001b[0;34m.\u001b[0m\u001b[0m_params\u001b[0m\u001b[0;34m[\u001b[0m\u001b[0;34m'instance_factory'\u001b[0m\u001b[0;34m]\u001b[0m\u001b[0;34m\u001b[0m\u001b[0;34m\u001b[0m\u001b[0m\n",
      "\u001b[0;32m~/.pyenv/versions/3.8.0/envs/hucitlib-dev/lib/python3.8/site-packages/surf/resource/result_proxy.py\u001b[0m in \u001b[0;36m__execute_get_by\u001b[0;34m(self)\u001b[0m\n\u001b[1;32m    214\u001b[0m \u001b[0;34m\u001b[0m\u001b[0m\n\u001b[1;32m    215\u001b[0m             \u001b[0mstore\u001b[0m \u001b[0;34m=\u001b[0m \u001b[0mself\u001b[0m\u001b[0;34m.\u001b[0m\u001b[0m_params\u001b[0m\u001b[0;34m[\u001b[0m\u001b[0;34m'store'\u001b[0m\u001b[0;34m]\u001b[0m\u001b[0;34m\u001b[0m\u001b[0;34m\u001b[0m\u001b[0m\n\u001b[0;32m--> 216\u001b[0;31m             \u001b[0mself\u001b[0m\u001b[0;34m.\u001b[0m\u001b[0m_get_by_response\u001b[0m \u001b[0;34m=\u001b[0m \u001b[0mstore\u001b[0m\u001b[0;34m.\u001b[0m\u001b[0mget_by\u001b[0m\u001b[0;34m(\u001b[0m\u001b[0mself\u001b[0m\u001b[0;34m.\u001b[0m\u001b[0m__get_by_args\u001b[0m\u001b[0;34m)\u001b[0m\u001b[0;34m\u001b[0m\u001b[0;34m\u001b[0m\u001b[0m\n\u001b[0m\u001b[1;32m    217\u001b[0m \u001b[0;34m\u001b[0m\u001b[0m\n\u001b[1;32m    218\u001b[0m         \u001b[0;32mreturn\u001b[0m \u001b[0mself\u001b[0m\u001b[0;34m.\u001b[0m\u001b[0m__get_by_args\u001b[0m\u001b[0;34m,\u001b[0m \u001b[0mself\u001b[0m\u001b[0;34m.\u001b[0m\u001b[0m_get_by_response\u001b[0m\u001b[0;34m\u001b[0m\u001b[0;34m\u001b[0m\u001b[0m\n",
      "\u001b[0;32m~/.pyenv/versions/3.8.0/envs/hucitlib-dev/lib/python3.8/site-packages/surf/store.py\u001b[0m in \u001b[0;36mget_by\u001b[0;34m(self, params)\u001b[0m\n\u001b[1;32m    150\u001b[0m     \u001b[0;32mdef\u001b[0m \u001b[0mget_by\u001b[0m\u001b[0;34m(\u001b[0m\u001b[0mself\u001b[0m\u001b[0;34m,\u001b[0m \u001b[0mparams\u001b[0m\u001b[0;34m)\u001b[0m\u001b[0;34m:\u001b[0m\u001b[0;34m\u001b[0m\u001b[0;34m\u001b[0m\u001b[0m\n\u001b[1;32m    151\u001b[0m         \u001b[0mparams\u001b[0m\u001b[0;34m[\u001b[0m\u001b[0;34m\"context\"\u001b[0m\u001b[0;34m]\u001b[0m \u001b[0;34m=\u001b[0m \u001b[0mself\u001b[0m\u001b[0;34m.\u001b[0m\u001b[0m__add_default_context\u001b[0m\u001b[0;34m(\u001b[0m\u001b[0mparams\u001b[0m\u001b[0;34m.\u001b[0m\u001b[0mget\u001b[0m\u001b[0;34m(\u001b[0m\u001b[0;34m\"context\"\u001b[0m\u001b[0;34m)\u001b[0m\u001b[0;34m)\u001b[0m\u001b[0;34m\u001b[0m\u001b[0;34m\u001b[0m\u001b[0m\n\u001b[0;32m--> 152\u001b[0;31m         \u001b[0;32mreturn\u001b[0m \u001b[0mself\u001b[0m\u001b[0;34m.\u001b[0m\u001b[0mreader\u001b[0m\u001b[0;34m.\u001b[0m\u001b[0mget_by\u001b[0m\u001b[0;34m(\u001b[0m\u001b[0mparams\u001b[0m\u001b[0;34m)\u001b[0m\u001b[0;34m\u001b[0m\u001b[0;34m\u001b[0m\u001b[0m\n\u001b[0m\u001b[1;32m    153\u001b[0m \u001b[0;34m\u001b[0m\u001b[0m\n\u001b[1;32m    154\u001b[0m     \u001b[0;32mdef\u001b[0m \u001b[0mexecute\u001b[0m\u001b[0;34m(\u001b[0m\u001b[0mself\u001b[0m\u001b[0;34m,\u001b[0m \u001b[0mquery\u001b[0m\u001b[0;34m)\u001b[0m\u001b[0;34m:\u001b[0m\u001b[0;34m\u001b[0m\u001b[0;34m\u001b[0m\u001b[0m\n",
      "\u001b[0;32m~/.pyenv/versions/3.8.0/envs/hucitlib-dev/lib/python3.8/site-packages/surf/plugin/reader.py\u001b[0m in \u001b[0;36mget_by\u001b[0;34m(self, params)\u001b[0m\n\u001b[1;32m    164\u001b[0m \u001b[0;34m\u001b[0m\u001b[0m\n\u001b[1;32m    165\u001b[0m     \u001b[0;32mdef\u001b[0m \u001b[0mget_by\u001b[0m\u001b[0;34m(\u001b[0m\u001b[0mself\u001b[0m\u001b[0;34m,\u001b[0m \u001b[0mparams\u001b[0m\u001b[0;34m)\u001b[0m\u001b[0;34m:\u001b[0m\u001b[0;34m\u001b[0m\u001b[0;34m\u001b[0m\u001b[0m\n\u001b[0;32m--> 166\u001b[0;31m         \u001b[0;32mreturn\u001b[0m \u001b[0mself\u001b[0m\u001b[0;34m.\u001b[0m\u001b[0m_get_by\u001b[0m\u001b[0;34m(\u001b[0m\u001b[0mparams\u001b[0m\u001b[0;34m)\u001b[0m\u001b[0;34m\u001b[0m\u001b[0;34m\u001b[0m\u001b[0m\n\u001b[0m\u001b[1;32m    167\u001b[0m \u001b[0;34m\u001b[0m\u001b[0m\n\u001b[1;32m    168\u001b[0m \u001b[0;34m\u001b[0m\u001b[0m\n",
      "\u001b[0;32m~/.pyenv/versions/3.8.0/envs/hucitlib-dev/lib/python3.8/site-packages/surf/plugin/query_reader.py\u001b[0m in \u001b[0;36m_get_by\u001b[0;34m(self, params)\u001b[0m\n\u001b[1;32m    250\u001b[0m \u001b[0;34m\u001b[0m\u001b[0m\n\u001b[1;32m    251\u001b[0m         \u001b[0;31m# Load just subjects and their types\u001b[0m\u001b[0;34m\u001b[0m\u001b[0;34m\u001b[0m\u001b[0;34m\u001b[0m\u001b[0m\n\u001b[0;32m--> 252\u001b[0;31m         \u001b[0mtable\u001b[0m \u001b[0;34m=\u001b[0m \u001b[0mself\u001b[0m\u001b[0;34m.\u001b[0m\u001b[0m_to_table\u001b[0m\u001b[0;34m(\u001b[0m\u001b[0mself\u001b[0m\u001b[0;34m.\u001b[0m\u001b[0m_execute\u001b[0m\u001b[0;34m(\u001b[0m\u001b[0mquery\u001b[0m\u001b[0;34m)\u001b[0m\u001b[0;34m)\u001b[0m\u001b[0;34m\u001b[0m\u001b[0;34m\u001b[0m\u001b[0m\n\u001b[0m\u001b[1;32m    253\u001b[0m \u001b[0;34m\u001b[0m\u001b[0m\n\u001b[1;32m    254\u001b[0m         \u001b[0;31m# Create response structure, preserve order, don't include\u001b[0m\u001b[0;34m\u001b[0m\u001b[0;34m\u001b[0m\u001b[0;34m\u001b[0m\u001b[0m\n",
      "\u001b[0;32m~/.pyenv/versions/3.8.0/envs/hucitlib-dev/lib/python3.8/site-packages/surf/plugin/sparql_protocol/reader.py\u001b[0m in \u001b[0;36m_execute\u001b[0;34m(self, query)\u001b[0m\n\u001b[1;32m    114\u001b[0m \u001b[0;34m\u001b[0m\u001b[0m\n\u001b[1;32m    115\u001b[0m     \u001b[0;32mdef\u001b[0m \u001b[0m_execute\u001b[0m\u001b[0;34m(\u001b[0m\u001b[0mself\u001b[0m\u001b[0;34m,\u001b[0m \u001b[0mquery\u001b[0m\u001b[0;34m)\u001b[0m\u001b[0;34m:\u001b[0m\u001b[0;34m\u001b[0m\u001b[0;34m\u001b[0m\u001b[0m\n\u001b[0;32m--> 116\u001b[0;31m         \u001b[0;32mreturn\u001b[0m \u001b[0mself\u001b[0m\u001b[0;34m.\u001b[0m\u001b[0mexecute_sparql\u001b[0m\u001b[0;34m(\u001b[0m\u001b[0mstr\u001b[0m\u001b[0;34m(\u001b[0m\u001b[0mquery\u001b[0m\u001b[0;34m)\u001b[0m\u001b[0;34m)\u001b[0m\u001b[0;34m\u001b[0m\u001b[0;34m\u001b[0m\u001b[0m\n\u001b[0m\u001b[1;32m    117\u001b[0m \u001b[0;34m\u001b[0m\u001b[0m\n\u001b[1;32m    118\u001b[0m     \u001b[0;32mdef\u001b[0m \u001b[0mclose\u001b[0m\u001b[0;34m(\u001b[0m\u001b[0mself\u001b[0m\u001b[0;34m)\u001b[0m\u001b[0;34m:\u001b[0m\u001b[0;34m\u001b[0m\u001b[0;34m\u001b[0m\u001b[0m\n",
      "\u001b[0;32m~/.pyenv/versions/3.8.0/envs/hucitlib-dev/lib/python3.8/site-packages/surf/plugin/sparql_protocol/reader.py\u001b[0m in \u001b[0;36mexecute_sparql\u001b[0;34m(self, q_string, format)\u001b[0m\n\u001b[1;32m    105\u001b[0m             \u001b[0mdebug\u001b[0m\u001b[0;34m(\u001b[0m\u001b[0mq_string\u001b[0m\u001b[0;34m)\u001b[0m\u001b[0;34m\u001b[0m\u001b[0;34m\u001b[0m\u001b[0m\n\u001b[1;32m    106\u001b[0m             \u001b[0mself\u001b[0m\u001b[0;34m.\u001b[0m\u001b[0m_sparql_wrapper\u001b[0m\u001b[0;34m.\u001b[0m\u001b[0msetQuery\u001b[0m\u001b[0;34m(\u001b[0m\u001b[0mq_string\u001b[0m\u001b[0;34m)\u001b[0m\u001b[0;34m\u001b[0m\u001b[0;34m\u001b[0m\u001b[0m\n\u001b[0;32m--> 107\u001b[0;31m             \u001b[0;32mreturn\u001b[0m \u001b[0mself\u001b[0m\u001b[0;34m.\u001b[0m\u001b[0m_sparql_wrapper\u001b[0m\u001b[0;34m.\u001b[0m\u001b[0mquery\u001b[0m\u001b[0;34m(\u001b[0m\u001b[0;34m)\u001b[0m\u001b[0;34m.\u001b[0m\u001b[0mconvert\u001b[0m\u001b[0;34m(\u001b[0m\u001b[0;34m)\u001b[0m\u001b[0;34m\u001b[0m\u001b[0;34m\u001b[0m\u001b[0m\n\u001b[0m\u001b[1;32m    108\u001b[0m         \u001b[0;32mexcept\u001b[0m \u001b[0mEndPointNotFound\u001b[0m \u001b[0;32mas\u001b[0m \u001b[0m_\u001b[0m\u001b[0;34m:\u001b[0m\u001b[0;34m\u001b[0m\u001b[0;34m\u001b[0m\u001b[0m\n\u001b[1;32m    109\u001b[0m             \u001b[0mraise_\u001b[0m\u001b[0;34m(\u001b[0m\u001b[0mSparqlReaderException\u001b[0m\u001b[0;34m,\u001b[0m \u001b[0;34m\"Endpoint not found\"\u001b[0m\u001b[0;34m,\u001b[0m \u001b[0msys\u001b[0m\u001b[0;34m.\u001b[0m\u001b[0mexc_info\u001b[0m\u001b[0;34m(\u001b[0m\u001b[0;34m)\u001b[0m\u001b[0;34m[\u001b[0m\u001b[0;36m2\u001b[0m\u001b[0;34m]\u001b[0m\u001b[0;34m)\u001b[0m\u001b[0;34m\u001b[0m\u001b[0;34m\u001b[0m\u001b[0m\n",
      "\u001b[0;32m~/.pyenv/versions/3.8.0/envs/hucitlib-dev/lib/python3.8/site-packages/SPARQLWrapper/Wrapper.py\u001b[0m in \u001b[0;36mquery\u001b[0;34m(self)\u001b[0m\n\u001b[1;32m   1105\u001b[0m             \u001b[0;34m:\u001b[0m\u001b[0mrtype\u001b[0m\u001b[0;34m:\u001b[0m \u001b[0;34m:\u001b[0m\u001b[0;32mclass\u001b[0m\u001b[0;34m:\u001b[0m\u001b[0;31m`\u001b[0m\u001b[0mQueryResult\u001b[0m\u001b[0;31m`\u001b[0m \u001b[0minstance\u001b[0m\u001b[0;34m\u001b[0m\u001b[0;34m\u001b[0m\u001b[0m\n\u001b[1;32m   1106\u001b[0m         \"\"\"\n\u001b[0;32m-> 1107\u001b[0;31m         \u001b[0;32mreturn\u001b[0m \u001b[0mQueryResult\u001b[0m\u001b[0;34m(\u001b[0m\u001b[0mself\u001b[0m\u001b[0;34m.\u001b[0m\u001b[0m_query\u001b[0m\u001b[0;34m(\u001b[0m\u001b[0;34m)\u001b[0m\u001b[0;34m)\u001b[0m\u001b[0;34m\u001b[0m\u001b[0;34m\u001b[0m\u001b[0m\n\u001b[0m\u001b[1;32m   1108\u001b[0m \u001b[0;34m\u001b[0m\u001b[0m\n\u001b[1;32m   1109\u001b[0m     \u001b[0;32mdef\u001b[0m \u001b[0mqueryAndConvert\u001b[0m\u001b[0;34m(\u001b[0m\u001b[0mself\u001b[0m\u001b[0;34m)\u001b[0m\u001b[0;34m:\u001b[0m\u001b[0;34m\u001b[0m\u001b[0;34m\u001b[0m\u001b[0m\n",
      "\u001b[0;32m~/.pyenv/versions/3.8.0/envs/hucitlib-dev/lib/python3.8/site-packages/SPARQLWrapper/Wrapper.py\u001b[0m in \u001b[0;36m_query\u001b[0;34m(self)\u001b[0m\n\u001b[1;32m   1071\u001b[0m                 \u001b[0mresponse\u001b[0m \u001b[0;34m=\u001b[0m \u001b[0murlopener\u001b[0m\u001b[0;34m(\u001b[0m\u001b[0mrequest\u001b[0m\u001b[0;34m,\u001b[0m \u001b[0mtimeout\u001b[0m\u001b[0;34m=\u001b[0m\u001b[0mself\u001b[0m\u001b[0;34m.\u001b[0m\u001b[0mtimeout\u001b[0m\u001b[0;34m)\u001b[0m\u001b[0;34m\u001b[0m\u001b[0;34m\u001b[0m\u001b[0m\n\u001b[1;32m   1072\u001b[0m             \u001b[0;32melse\u001b[0m\u001b[0;34m:\u001b[0m\u001b[0;34m\u001b[0m\u001b[0;34m\u001b[0m\u001b[0m\n\u001b[0;32m-> 1073\u001b[0;31m                 \u001b[0mresponse\u001b[0m \u001b[0;34m=\u001b[0m \u001b[0murlopener\u001b[0m\u001b[0;34m(\u001b[0m\u001b[0mrequest\u001b[0m\u001b[0;34m)\u001b[0m\u001b[0;34m\u001b[0m\u001b[0;34m\u001b[0m\u001b[0m\n\u001b[0m\u001b[1;32m   1074\u001b[0m             \u001b[0;32mreturn\u001b[0m \u001b[0mresponse\u001b[0m\u001b[0;34m,\u001b[0m \u001b[0mself\u001b[0m\u001b[0;34m.\u001b[0m\u001b[0mreturnFormat\u001b[0m\u001b[0;34m\u001b[0m\u001b[0;34m\u001b[0m\u001b[0m\n\u001b[1;32m   1075\u001b[0m         \u001b[0;32mexcept\u001b[0m \u001b[0murllib\u001b[0m\u001b[0;34m.\u001b[0m\u001b[0merror\u001b[0m\u001b[0;34m.\u001b[0m\u001b[0mHTTPError\u001b[0m \u001b[0;32mas\u001b[0m \u001b[0me\u001b[0m\u001b[0;34m:\u001b[0m\u001b[0;34m\u001b[0m\u001b[0;34m\u001b[0m\u001b[0m\n",
      "\u001b[0;32m~/.pyenv/versions/3.8.0/lib/python3.8/urllib/request.py\u001b[0m in \u001b[0;36murlopen\u001b[0;34m(url, data, timeout, cafile, capath, cadefault, context)\u001b[0m\n\u001b[1;32m    220\u001b[0m     \u001b[0;32melse\u001b[0m\u001b[0;34m:\u001b[0m\u001b[0;34m\u001b[0m\u001b[0;34m\u001b[0m\u001b[0m\n\u001b[1;32m    221\u001b[0m         \u001b[0mopener\u001b[0m \u001b[0;34m=\u001b[0m \u001b[0m_opener\u001b[0m\u001b[0;34m\u001b[0m\u001b[0;34m\u001b[0m\u001b[0m\n\u001b[0;32m--> 222\u001b[0;31m     \u001b[0;32mreturn\u001b[0m \u001b[0mopener\u001b[0m\u001b[0;34m.\u001b[0m\u001b[0mopen\u001b[0m\u001b[0;34m(\u001b[0m\u001b[0murl\u001b[0m\u001b[0;34m,\u001b[0m \u001b[0mdata\u001b[0m\u001b[0;34m,\u001b[0m \u001b[0mtimeout\u001b[0m\u001b[0;34m)\u001b[0m\u001b[0;34m\u001b[0m\u001b[0;34m\u001b[0m\u001b[0m\n\u001b[0m\u001b[1;32m    223\u001b[0m \u001b[0;34m\u001b[0m\u001b[0m\n\u001b[1;32m    224\u001b[0m \u001b[0;32mdef\u001b[0m \u001b[0minstall_opener\u001b[0m\u001b[0;34m(\u001b[0m\u001b[0mopener\u001b[0m\u001b[0;34m)\u001b[0m\u001b[0;34m:\u001b[0m\u001b[0;34m\u001b[0m\u001b[0;34m\u001b[0m\u001b[0m\n",
      "\u001b[0;32m~/.pyenv/versions/3.8.0/lib/python3.8/urllib/request.py\u001b[0m in \u001b[0;36mopen\u001b[0;34m(self, fullurl, data, timeout)\u001b[0m\n\u001b[1;32m    523\u001b[0m \u001b[0;34m\u001b[0m\u001b[0m\n\u001b[1;32m    524\u001b[0m         \u001b[0msys\u001b[0m\u001b[0;34m.\u001b[0m\u001b[0maudit\u001b[0m\u001b[0;34m(\u001b[0m\u001b[0;34m'urllib.Request'\u001b[0m\u001b[0;34m,\u001b[0m \u001b[0mreq\u001b[0m\u001b[0;34m.\u001b[0m\u001b[0mfull_url\u001b[0m\u001b[0;34m,\u001b[0m \u001b[0mreq\u001b[0m\u001b[0;34m.\u001b[0m\u001b[0mdata\u001b[0m\u001b[0;34m,\u001b[0m \u001b[0mreq\u001b[0m\u001b[0;34m.\u001b[0m\u001b[0mheaders\u001b[0m\u001b[0;34m,\u001b[0m \u001b[0mreq\u001b[0m\u001b[0;34m.\u001b[0m\u001b[0mget_method\u001b[0m\u001b[0;34m(\u001b[0m\u001b[0;34m)\u001b[0m\u001b[0;34m)\u001b[0m\u001b[0;34m\u001b[0m\u001b[0;34m\u001b[0m\u001b[0m\n\u001b[0;32m--> 525\u001b[0;31m         \u001b[0mresponse\u001b[0m \u001b[0;34m=\u001b[0m \u001b[0mself\u001b[0m\u001b[0;34m.\u001b[0m\u001b[0m_open\u001b[0m\u001b[0;34m(\u001b[0m\u001b[0mreq\u001b[0m\u001b[0;34m,\u001b[0m \u001b[0mdata\u001b[0m\u001b[0;34m)\u001b[0m\u001b[0;34m\u001b[0m\u001b[0;34m\u001b[0m\u001b[0m\n\u001b[0m\u001b[1;32m    526\u001b[0m \u001b[0;34m\u001b[0m\u001b[0m\n\u001b[1;32m    527\u001b[0m         \u001b[0;31m# post-process response\u001b[0m\u001b[0;34m\u001b[0m\u001b[0;34m\u001b[0m\u001b[0;34m\u001b[0m\u001b[0m\n",
      "\u001b[0;32m~/.pyenv/versions/3.8.0/lib/python3.8/urllib/request.py\u001b[0m in \u001b[0;36m_open\u001b[0;34m(self, req, data)\u001b[0m\n\u001b[1;32m    540\u001b[0m \u001b[0;34m\u001b[0m\u001b[0m\n\u001b[1;32m    541\u001b[0m         \u001b[0mprotocol\u001b[0m \u001b[0;34m=\u001b[0m \u001b[0mreq\u001b[0m\u001b[0;34m.\u001b[0m\u001b[0mtype\u001b[0m\u001b[0;34m\u001b[0m\u001b[0;34m\u001b[0m\u001b[0m\n\u001b[0;32m--> 542\u001b[0;31m         result = self._call_chain(self.handle_open, protocol, protocol +\n\u001b[0m\u001b[1;32m    543\u001b[0m                                   '_open', req)\n\u001b[1;32m    544\u001b[0m         \u001b[0;32mif\u001b[0m \u001b[0mresult\u001b[0m\u001b[0;34m:\u001b[0m\u001b[0;34m\u001b[0m\u001b[0;34m\u001b[0m\u001b[0m\n",
      "\u001b[0;32m~/.pyenv/versions/3.8.0/lib/python3.8/urllib/request.py\u001b[0m in \u001b[0;36m_call_chain\u001b[0;34m(self, chain, kind, meth_name, *args)\u001b[0m\n\u001b[1;32m    500\u001b[0m         \u001b[0;32mfor\u001b[0m \u001b[0mhandler\u001b[0m \u001b[0;32min\u001b[0m \u001b[0mhandlers\u001b[0m\u001b[0;34m:\u001b[0m\u001b[0;34m\u001b[0m\u001b[0;34m\u001b[0m\u001b[0m\n\u001b[1;32m    501\u001b[0m             \u001b[0mfunc\u001b[0m \u001b[0;34m=\u001b[0m \u001b[0mgetattr\u001b[0m\u001b[0;34m(\u001b[0m\u001b[0mhandler\u001b[0m\u001b[0;34m,\u001b[0m \u001b[0mmeth_name\u001b[0m\u001b[0;34m)\u001b[0m\u001b[0;34m\u001b[0m\u001b[0;34m\u001b[0m\u001b[0m\n\u001b[0;32m--> 502\u001b[0;31m             \u001b[0mresult\u001b[0m \u001b[0;34m=\u001b[0m \u001b[0mfunc\u001b[0m\u001b[0;34m(\u001b[0m\u001b[0;34m*\u001b[0m\u001b[0margs\u001b[0m\u001b[0;34m)\u001b[0m\u001b[0;34m\u001b[0m\u001b[0;34m\u001b[0m\u001b[0m\n\u001b[0m\u001b[1;32m    503\u001b[0m             \u001b[0;32mif\u001b[0m \u001b[0mresult\u001b[0m \u001b[0;32mis\u001b[0m \u001b[0;32mnot\u001b[0m \u001b[0;32mNone\u001b[0m\u001b[0;34m:\u001b[0m\u001b[0;34m\u001b[0m\u001b[0;34m\u001b[0m\u001b[0m\n\u001b[1;32m    504\u001b[0m                 \u001b[0;32mreturn\u001b[0m \u001b[0mresult\u001b[0m\u001b[0;34m\u001b[0m\u001b[0;34m\u001b[0m\u001b[0m\n",
      "\u001b[0;32m~/.pyenv/versions/3.8.0/lib/python3.8/urllib/request.py\u001b[0m in \u001b[0;36mhttp_open\u001b[0;34m(self, req)\u001b[0m\n\u001b[1;32m   1344\u001b[0m \u001b[0;34m\u001b[0m\u001b[0m\n\u001b[1;32m   1345\u001b[0m     \u001b[0;32mdef\u001b[0m \u001b[0mhttp_open\u001b[0m\u001b[0;34m(\u001b[0m\u001b[0mself\u001b[0m\u001b[0;34m,\u001b[0m \u001b[0mreq\u001b[0m\u001b[0;34m)\u001b[0m\u001b[0;34m:\u001b[0m\u001b[0;34m\u001b[0m\u001b[0;34m\u001b[0m\u001b[0m\n\u001b[0;32m-> 1346\u001b[0;31m         \u001b[0;32mreturn\u001b[0m \u001b[0mself\u001b[0m\u001b[0;34m.\u001b[0m\u001b[0mdo_open\u001b[0m\u001b[0;34m(\u001b[0m\u001b[0mhttp\u001b[0m\u001b[0;34m.\u001b[0m\u001b[0mclient\u001b[0m\u001b[0;34m.\u001b[0m\u001b[0mHTTPConnection\u001b[0m\u001b[0;34m,\u001b[0m \u001b[0mreq\u001b[0m\u001b[0;34m)\u001b[0m\u001b[0;34m\u001b[0m\u001b[0;34m\u001b[0m\u001b[0m\n\u001b[0m\u001b[1;32m   1347\u001b[0m \u001b[0;34m\u001b[0m\u001b[0m\n\u001b[1;32m   1348\u001b[0m     \u001b[0mhttp_request\u001b[0m \u001b[0;34m=\u001b[0m \u001b[0mAbstractHTTPHandler\u001b[0m\u001b[0;34m.\u001b[0m\u001b[0mdo_request_\u001b[0m\u001b[0;34m\u001b[0m\u001b[0;34m\u001b[0m\u001b[0m\n",
      "\u001b[0;32m~/.pyenv/versions/3.8.0/lib/python3.8/urllib/request.py\u001b[0m in \u001b[0;36mdo_open\u001b[0;34m(self, http_class, req, **http_conn_args)\u001b[0m\n\u001b[1;32m   1319\u001b[0m             \u001b[0;32mexcept\u001b[0m \u001b[0mOSError\u001b[0m \u001b[0;32mas\u001b[0m \u001b[0merr\u001b[0m\u001b[0;34m:\u001b[0m \u001b[0;31m# timeout error\u001b[0m\u001b[0;34m\u001b[0m\u001b[0;34m\u001b[0m\u001b[0m\n\u001b[1;32m   1320\u001b[0m                 \u001b[0;32mraise\u001b[0m \u001b[0mURLError\u001b[0m\u001b[0;34m(\u001b[0m\u001b[0merr\u001b[0m\u001b[0;34m)\u001b[0m\u001b[0;34m\u001b[0m\u001b[0;34m\u001b[0m\u001b[0m\n\u001b[0;32m-> 1321\u001b[0;31m             \u001b[0mr\u001b[0m \u001b[0;34m=\u001b[0m \u001b[0mh\u001b[0m\u001b[0;34m.\u001b[0m\u001b[0mgetresponse\u001b[0m\u001b[0;34m(\u001b[0m\u001b[0;34m)\u001b[0m\u001b[0;34m\u001b[0m\u001b[0;34m\u001b[0m\u001b[0m\n\u001b[0m\u001b[1;32m   1322\u001b[0m         \u001b[0;32mexcept\u001b[0m\u001b[0;34m:\u001b[0m\u001b[0;34m\u001b[0m\u001b[0;34m\u001b[0m\u001b[0m\n\u001b[1;32m   1323\u001b[0m             \u001b[0mh\u001b[0m\u001b[0;34m.\u001b[0m\u001b[0mclose\u001b[0m\u001b[0;34m(\u001b[0m\u001b[0;34m)\u001b[0m\u001b[0;34m\u001b[0m\u001b[0;34m\u001b[0m\u001b[0m\n",
      "\u001b[0;32m~/.pyenv/versions/3.8.0/lib/python3.8/http/client.py\u001b[0m in \u001b[0;36mgetresponse\u001b[0;34m(self)\u001b[0m\n\u001b[1;32m   1320\u001b[0m         \u001b[0;32mtry\u001b[0m\u001b[0;34m:\u001b[0m\u001b[0;34m\u001b[0m\u001b[0;34m\u001b[0m\u001b[0m\n\u001b[1;32m   1321\u001b[0m             \u001b[0;32mtry\u001b[0m\u001b[0;34m:\u001b[0m\u001b[0;34m\u001b[0m\u001b[0;34m\u001b[0m\u001b[0m\n\u001b[0;32m-> 1322\u001b[0;31m                 \u001b[0mresponse\u001b[0m\u001b[0;34m.\u001b[0m\u001b[0mbegin\u001b[0m\u001b[0;34m(\u001b[0m\u001b[0;34m)\u001b[0m\u001b[0;34m\u001b[0m\u001b[0;34m\u001b[0m\u001b[0m\n\u001b[0m\u001b[1;32m   1323\u001b[0m             \u001b[0;32mexcept\u001b[0m \u001b[0mConnectionError\u001b[0m\u001b[0;34m:\u001b[0m\u001b[0;34m\u001b[0m\u001b[0;34m\u001b[0m\u001b[0m\n\u001b[1;32m   1324\u001b[0m                 \u001b[0mself\u001b[0m\u001b[0;34m.\u001b[0m\u001b[0mclose\u001b[0m\u001b[0;34m(\u001b[0m\u001b[0;34m)\u001b[0m\u001b[0;34m\u001b[0m\u001b[0;34m\u001b[0m\u001b[0m\n",
      "\u001b[0;32m~/.pyenv/versions/3.8.0/lib/python3.8/http/client.py\u001b[0m in \u001b[0;36mbegin\u001b[0;34m(self)\u001b[0m\n\u001b[1;32m    301\u001b[0m         \u001b[0;31m# read until we get a non-100 response\u001b[0m\u001b[0;34m\u001b[0m\u001b[0;34m\u001b[0m\u001b[0;34m\u001b[0m\u001b[0m\n\u001b[1;32m    302\u001b[0m         \u001b[0;32mwhile\u001b[0m \u001b[0;32mTrue\u001b[0m\u001b[0;34m:\u001b[0m\u001b[0;34m\u001b[0m\u001b[0;34m\u001b[0m\u001b[0m\n\u001b[0;32m--> 303\u001b[0;31m             \u001b[0mversion\u001b[0m\u001b[0;34m,\u001b[0m \u001b[0mstatus\u001b[0m\u001b[0;34m,\u001b[0m \u001b[0mreason\u001b[0m \u001b[0;34m=\u001b[0m \u001b[0mself\u001b[0m\u001b[0;34m.\u001b[0m\u001b[0m_read_status\u001b[0m\u001b[0;34m(\u001b[0m\u001b[0;34m)\u001b[0m\u001b[0;34m\u001b[0m\u001b[0;34m\u001b[0m\u001b[0m\n\u001b[0m\u001b[1;32m    304\u001b[0m             \u001b[0;32mif\u001b[0m \u001b[0mstatus\u001b[0m \u001b[0;34m!=\u001b[0m \u001b[0mCONTINUE\u001b[0m\u001b[0;34m:\u001b[0m\u001b[0;34m\u001b[0m\u001b[0;34m\u001b[0m\u001b[0m\n\u001b[1;32m    305\u001b[0m                 \u001b[0;32mbreak\u001b[0m\u001b[0;34m\u001b[0m\u001b[0;34m\u001b[0m\u001b[0m\n",
      "\u001b[0;32m~/.pyenv/versions/3.8.0/lib/python3.8/http/client.py\u001b[0m in \u001b[0;36m_read_status\u001b[0;34m(self)\u001b[0m\n\u001b[1;32m    262\u001b[0m \u001b[0;34m\u001b[0m\u001b[0m\n\u001b[1;32m    263\u001b[0m     \u001b[0;32mdef\u001b[0m \u001b[0m_read_status\u001b[0m\u001b[0;34m(\u001b[0m\u001b[0mself\u001b[0m\u001b[0;34m)\u001b[0m\u001b[0;34m:\u001b[0m\u001b[0;34m\u001b[0m\u001b[0;34m\u001b[0m\u001b[0m\n\u001b[0;32m--> 264\u001b[0;31m         \u001b[0mline\u001b[0m \u001b[0;34m=\u001b[0m \u001b[0mstr\u001b[0m\u001b[0;34m(\u001b[0m\u001b[0mself\u001b[0m\u001b[0;34m.\u001b[0m\u001b[0mfp\u001b[0m\u001b[0;34m.\u001b[0m\u001b[0mreadline\u001b[0m\u001b[0;34m(\u001b[0m\u001b[0m_MAXLINE\u001b[0m \u001b[0;34m+\u001b[0m \u001b[0;36m1\u001b[0m\u001b[0;34m)\u001b[0m\u001b[0;34m,\u001b[0m \u001b[0;34m\"iso-8859-1\"\u001b[0m\u001b[0;34m)\u001b[0m\u001b[0;34m\u001b[0m\u001b[0;34m\u001b[0m\u001b[0m\n\u001b[0m\u001b[1;32m    265\u001b[0m         \u001b[0;32mif\u001b[0m \u001b[0mlen\u001b[0m\u001b[0;34m(\u001b[0m\u001b[0mline\u001b[0m\u001b[0;34m)\u001b[0m \u001b[0;34m>\u001b[0m \u001b[0m_MAXLINE\u001b[0m\u001b[0;34m:\u001b[0m\u001b[0;34m\u001b[0m\u001b[0;34m\u001b[0m\u001b[0m\n\u001b[1;32m    266\u001b[0m             \u001b[0;32mraise\u001b[0m \u001b[0mLineTooLong\u001b[0m\u001b[0;34m(\u001b[0m\u001b[0;34m\"status line\"\u001b[0m\u001b[0;34m)\u001b[0m\u001b[0;34m\u001b[0m\u001b[0;34m\u001b[0m\u001b[0m\n",
      "\u001b[0;32m~/.pyenv/versions/3.8.0/lib/python3.8/socket.py\u001b[0m in \u001b[0;36mreadinto\u001b[0;34m(self, b)\u001b[0m\n\u001b[1;32m    667\u001b[0m         \u001b[0;32mwhile\u001b[0m \u001b[0;32mTrue\u001b[0m\u001b[0;34m:\u001b[0m\u001b[0;34m\u001b[0m\u001b[0;34m\u001b[0m\u001b[0m\n\u001b[1;32m    668\u001b[0m             \u001b[0;32mtry\u001b[0m\u001b[0;34m:\u001b[0m\u001b[0;34m\u001b[0m\u001b[0;34m\u001b[0m\u001b[0m\n\u001b[0;32m--> 669\u001b[0;31m                 \u001b[0;32mreturn\u001b[0m \u001b[0mself\u001b[0m\u001b[0;34m.\u001b[0m\u001b[0m_sock\u001b[0m\u001b[0;34m.\u001b[0m\u001b[0mrecv_into\u001b[0m\u001b[0;34m(\u001b[0m\u001b[0mb\u001b[0m\u001b[0;34m)\u001b[0m\u001b[0;34m\u001b[0m\u001b[0;34m\u001b[0m\u001b[0m\n\u001b[0m\u001b[1;32m    670\u001b[0m             \u001b[0;32mexcept\u001b[0m \u001b[0mtimeout\u001b[0m\u001b[0;34m:\u001b[0m\u001b[0;34m\u001b[0m\u001b[0;34m\u001b[0m\u001b[0m\n\u001b[1;32m    671\u001b[0m                 \u001b[0mself\u001b[0m\u001b[0;34m.\u001b[0m\u001b[0m_timeout_occurred\u001b[0m \u001b[0;34m=\u001b[0m \u001b[0;32mTrue\u001b[0m\u001b[0;34m\u001b[0m\u001b[0;34m\u001b[0m\u001b[0m\n",
      "\u001b[0;31mKeyboardInterrupt\u001b[0m: "
     ]
    }
   ],
   "source": [
    "populate_text_structure(kb, work_obj, text_structure_dict)"
   ]
  },
  {
   "cell_type": "markdown",
   "metadata": {},
   "source": [
    "## debug"
   ]
  },
  {
   "cell_type": "code",
   "execution_count": 1,
   "metadata": {},
   "outputs": [],
   "source": [
    "import sys\n",
    "import surf\n",
    "import logging"
   ]
  },
  {
   "cell_type": "code",
   "execution_count": 2,
   "metadata": {},
   "outputs": [],
   "source": [
    "from hucitlib import KnowledgeBase"
   ]
  },
  {
   "cell_type": "code",
   "execution_count": 3,
   "metadata": {},
   "outputs": [],
   "source": [
    "from surf.log import setup_logger, set_logger_level\n",
    "logging.basicConfig(level=logging.INFO, stream=sys.stdout)\n",
    "logger = logging.getLogger()\n",
    "setup_logger()\n",
    "set_logger_level(logging.DEBUG)"
   ]
  },
  {
   "cell_type": "code",
   "execution_count": 4,
   "metadata": {},
   "outputs": [
    {
     "name": "stderr",
     "output_type": "stream",
     "text": [
      "2020-10-02 11:09:08,110 INFO     surf    initializing the store\n",
      "2020-10-02 11:09:08,111 INFO     surf    store initialized\n"
     ]
    }
   ],
   "source": [
    "kb = KnowledgeBase('../hucitlib/config/virtuoso_pc6.ini')"
   ]
  },
  {
   "cell_type": "code",
   "execution_count": 28,
   "metadata": {},
   "outputs": [
    {
     "name": "stdout",
     "output_type": "stream",
     "text": [
      "DEBUG:hucitlib.kb:Converted the input urn from string to <class 'type'>\n"
     ]
    },
    {
     "name": "stderr",
     "output_type": "stream",
     "text": [
      "2020-10-02 11:38:48,652 DEBUG    surf    \n",
      "            PREFIX frbroo: <http://erlangen-crm.org/efrbroo/>\n",
      "            PREFIX crm: <http://erlangen-crm.org/current/>\n",
      "            PREFIX rdfs: <http://www.w3.org/2000/01/rdf-schema#>\n",
      "\n",
      "            SELECT ?resource_URI\n",
      "\n",
      "            WHERE {\n",
      "                ?resource_URI crm:P1_is_identified_by ?urn .\n",
      "                ?urn a crm:E42_Identifier .\n",
      "                ?urn rdfs:label \"urn:cts:greekLit:tlg0019\"\n",
      "            }\n",
      "        \n"
     ]
    }
   ],
   "source": [
    "author_obj = kb.get_resource_by_urn('urn:cts:greekLit:tlg0019')"
   ]
  },
  {
   "cell_type": "code",
   "execution_count": 29,
   "metadata": {},
   "outputs": [
    {
     "name": "stderr",
     "output_type": "stream",
     "text": [
      "2020-10-02 11:38:49,786 DEBUG    surf    SELECT DISTINCT ?v ?c FROM <http://purl.org/hucit/kb>  WHERE {  <http://purl.org/hucit/kb/authors/765> <http://erlangen-crm.org/current/P1_is_identified_by> ?v .  OPTIONAL { ?v <http://www.w3.org/1999/02/22-rdf-syntax-ns#type> ?c }  }    \n",
      "2020-10-02 11:38:49,827 DEBUG    surf    SELECT DISTINCT ?v ?c FROM <http://purl.org/hucit/kb>  WHERE {  <http://purl.org/hucit/kb/authors/765/name> <http://www.w3.org/2000/01/rdf-schema#label> ?v .  OPTIONAL { ?v <http://www.w3.org/1999/02/22-rdf-syntax-ns#type> ?c }  }    \n"
     ]
    },
    {
     "data": {
      "text/plain": [
       "[('it', 'Aristofane'),\n",
       " ('de', 'Aristophan'),\n",
       " ('fr', 'Aristophane'),\n",
       " (None, 'Aristophanes'),\n",
       " ('la', 'Aristophanes Atheniensis'),\n",
       " ('la', 'Aristophanes Comicus'),\n",
       " ('es', 'Aristófanes')]"
      ]
     },
     "execution_count": 29,
     "metadata": {},
     "output_type": "execute_result"
    }
   ],
   "source": [
    "author_obj.get_names()"
   ]
  },
  {
   "cell_type": "code",
   "execution_count": 30,
   "metadata": {},
   "outputs": [
    {
     "name": "stderr",
     "output_type": "stream",
     "text": [
      "2020-10-02 11:38:51,843 DEBUG    surf    SELECT DISTINCT ?v ?c FROM <http://purl.org/hucit/kb>  WHERE {  <http://purl.org/hucit/kb/authors/765/cts_urn> <http://www.w3.org/2000/01/rdf-schema#label> ?v .  OPTIONAL { ?v <http://www.w3.org/1999/02/22-rdf-syntax-ns#type> ?c }  }    \n"
     ]
    },
    {
     "name": "stdout",
     "output_type": "stream",
     "text": [
      "http://purl.org/hucit/kb/authors/765/cts_urn urn:cts:greekLit:tlg0019 None\n",
      "http://purl.org/hucit/kb/authors/765/name Aristofane it\n",
      "http://purl.org/hucit/kb/authors/765/name Aristophan de\n",
      "http://purl.org/hucit/kb/authors/765/name Aristophane fr\n",
      "http://purl.org/hucit/kb/authors/765/name Aristophanes None\n",
      "http://purl.org/hucit/kb/authors/765/name Aristophanes Atheniensis la\n",
      "http://purl.org/hucit/kb/authors/765/name Aristophanes Comicus la\n",
      "http://purl.org/hucit/kb/authors/765/name Aristófanes es\n"
     ]
    }
   ],
   "source": [
    "for x in author_obj.ecrm_P1_is_identified_by:\n",
    "    for label in x.rdfs_label:\n",
    "        print(x.subject, label, label.language)"
   ]
  },
  {
   "cell_type": "code",
   "execution_count": 31,
   "metadata": {},
   "outputs": [],
   "source": [
    "name = author_obj.ecrm_P1_is_identified_by[-1]"
   ]
  },
  {
   "cell_type": "code",
   "execution_count": 32,
   "metadata": {},
   "outputs": [
    {
     "name": "stdout",
     "output_type": "stream",
     "text": [
      "b'<?xml version=\"1.0\" encoding=\"UTF-8\"?>\\n<rdf:RDF\\n   xmlns:RDF=\"http://www.w3.org/1999/02/22-rdf-syntax-ns#\"\\n   xmlns:RDFS=\"http://www.w3.org/2000/01/rdf-schema#\"\\n   xmlns:rdf=\"http://www.w3.org/1999/02/22-rdf-syntax-ns#\"\\n>\\n  <rdf:Description rdf:about=\"http://purl.org/hucit/kb/authors/765/name\">\\n    <RDFS:label xml:lang=\"es\">Arist\\xc3\\xb3fanes</RDFS:label>\\n    <RDF:type rdf:resource=\"http://erlangen-crm.org/efrbroo/F12_Name\"/>\\n    <RDFS:label>Aristophanes</RDFS:label>\\n    <RDFS:label xml:lang=\"fr\">Aristophane</RDFS:label>\\n    <RDFS:label xml:lang=\"de\">Aristophan</RDFS:label>\\n    <RDFS:label xml:lang=\"it\">Aristofane</RDFS:label>\\n    <RDFS:label xml:lang=\"la\">Aristophanes Comicus</RDFS:label>\\n    <RDFS:label xml:lang=\"la\">Aristophanes Atheniensis</RDFS:label>\\n  </rdf:Description>\\n</rdf:RDF>\\n'\n"
     ]
    }
   ],
   "source": [
    "print(name.serialize())"
   ]
  },
  {
   "cell_type": "code",
   "execution_count": 19,
   "metadata": {},
   "outputs": [
    {
     "name": "stderr",
     "output_type": "stream",
     "text": [
      "2020-10-02 11:18:55,119 DEBUG    surf    DELETE  FROM <http://purl.org/hucit/kb> {  ?s ?p ?o  } WHERE { {  {  ?s ?p ?o .  FILTER (?s = <http://purl.org/hucit/kb/authors/937/name> AND ?p = <http://www.w3.org/1999/02/22-rdf-syntax-ns#type>)  }  } UNION {  {  ?s ?p ?o .  FILTER (?s = <http://purl.org/hucit/kb/authors/937/name> AND ?p = <http://www.w3.org/2000/01/rdf-schema#label>)  }  } }\n",
      "2020-10-02 11:18:55,193 DEBUG    surf    INSERT  INTO <http://purl.org/hucit/kb> {  <http://purl.org/hucit/kb/authors/937/name> <http://www.w3.org/1999/02/22-rdf-syntax-ns#type> <http://erlangen-crm.org/efrbroo/F12_Name> .  <http://purl.org/hucit/kb/authors/937/name> <http://www.w3.org/2000/01/rdf-schema#label> \"Isaios\" .  <http://purl.org/hucit/kb/authors/937/name> <http://www.w3.org/2000/01/rdf-schema#label> \"Isaeus\" .  <http://purl.org/hucit/kb/authors/937/name> <http://www.w3.org/2000/01/rdf-schema#label> \"Iseo\" .  <http://purl.org/hucit/kb/authors/937/name> <http://www.w3.org/2000/01/rdf-schema#label> \"Isée\"  } \n"
     ]
    }
   ],
   "source": [
    "name.update()"
   ]
  },
  {
   "cell_type": "code",
   "execution_count": 12,
   "metadata": {},
   "outputs": [
    {
     "name": "stderr",
     "output_type": "stream",
     "text": [
      "2020-10-02 11:09:52,440 DEBUG    surf    DELETE  FROM <http://purl.org/hucit/kb> {  ?s ?p ?o  } WHERE { {  {  ?s ?p ?o .  FILTER (?s = <http://purl.org/hucit/kb/authors/937/name> AND ?p = <http://www.w3.org/1999/02/22-rdf-syntax-ns#type>)  }  } UNION {  {  ?s ?p ?o .  FILTER (?s = <http://purl.org/hucit/kb/authors/937/name> AND ?p = <http://www.w3.org/2000/01/rdf-schema#label>)  }  } }\n",
      "2020-10-02 11:09:52,477 DEBUG    surf    INSERT  INTO <http://purl.org/hucit/kb> {  <http://purl.org/hucit/kb/authors/937/name> <http://www.w3.org/1999/02/22-rdf-syntax-ns#type> <http://erlangen-crm.org/efrbroo/F12_Name> .  <http://purl.org/hucit/kb/authors/937/name> <http://www.w3.org/2000/01/rdf-schema#label> \"Isaeus\" .  <http://purl.org/hucit/kb/authors/937/name> <http://www.w3.org/2000/01/rdf-schema#label> \"Isaios\" .  <http://purl.org/hucit/kb/authors/937/name> <http://www.w3.org/2000/01/rdf-schema#label> \"Iseo\" .  <http://purl.org/hucit/kb/authors/937/name> <http://www.w3.org/2000/01/rdf-schema#label> \"Isée\"  } \n"
     ]
    }
   ],
   "source": [
    "name.update()"
   ]
  },
  {
   "cell_type": "code",
   "execution_count": 13,
   "metadata": {},
   "outputs": [
    {
     "name": "stdout",
     "output_type": "stream",
     "text": [
      "b'<?xml version=\"1.0\" encoding=\"UTF-8\"?>\\n<rdf:RDF\\n   xmlns:RDF=\"http://www.w3.org/1999/02/22-rdf-syntax-ns#\"\\n   xmlns:RDFS=\"http://www.w3.org/2000/01/rdf-schema#\"\\n   xmlns:rdf=\"http://www.w3.org/1999/02/22-rdf-syntax-ns#\"\\n>\\n  <rdf:Description rdf:about=\"http://purl.org/hucit/kb/authors/937/name\">\\n    <RDF:type rdf:resource=\"http://erlangen-crm.org/efrbroo/F12_Name\"/>\\n    <RDFS:label xml:lang=\"fr\">Is\\xc3\\xa9e</RDFS:label>\\n    <RDFS:label xml:lang=\"it\">Iseo</RDFS:label>\\n    <RDFS:label>Isaios</RDFS:label>\\n    <RDFS:label xml:lang=\"la\">Isaeus</RDFS:label>\\n  </rdf:Description>\\n</rdf:RDF>\\n'\n"
     ]
    }
   ],
   "source": [
    "print(name.serialize())"
   ]
  },
  {
   "cell_type": "code",
   "execution_count": 212,
   "metadata": {},
   "outputs": [
    {
     "data": {
      "text/plain": [
       "dict_items([(rdflib.term.URIRef('http://www.w3.org/1999/02/22-rdf-syntax-ns#type'), [rdflib.term.URIRef('http://erlangen-crm.org/efrbroo/F12_Name')]), (rdflib.term.URIRef('http://www.w3.org/2000/01/rdf-schema#label'), [rdflib.term.Literal('Erodoto', lang='it'), rdflib.term.Literal('Herodot', lang='de'), rdflib.term.Literal('Herodotus', lang='la'), rdflib.term.Literal('Herodotus Historicus', lang='la'), rdflib.term.Literal('Hérodote', lang='fr')]), (0, [])])"
      ]
     },
     "execution_count": 212,
     "metadata": {},
     "output_type": "execute_result"
    }
   ],
   "source": [
    "name.rdf_direct.items()"
   ]
  },
  {
   "cell_type": "code",
   "execution_count": 219,
   "metadata": {},
   "outputs": [
    {
     "name": "stdout",
     "output_type": "stream",
     "text": [
      "http://purl.org/hucit/kb/authors/915/name http://www.w3.org/1999/02/22-rdf-syntax-ns#type http://erlangen-crm.org/efrbroo/F12_Name\n",
      "<class 'rdflib.term.URIRef'>\n",
      "['__add__', '__class__', '__contains__', '__delattr__', '__dir__', '__doc__', '__eq__', '__format__', '__ge__', '__getattribute__', '__getitem__', '__getnewargs__', '__gt__', '__hash__', '__init__', '__init_subclass__', '__invert__', '__iter__', '__le__', '__len__', '__lt__', '__mod__', '__module__', '__mul__', '__ne__', '__neg__', '__new__', '__or__', '__radd__', '__reduce__', '__reduce_ex__', '__repr__', '__rmod__', '__rmul__', '__setattr__', '__sizeof__', '__slots__', '__str__', '__subclasshook__', '__truediv__', 'capitalize', 'casefold', 'center', 'count', 'de_skolemize', 'defrag', 'encode', 'endswith', 'eq', 'expandtabs', 'find', 'format', 'format_map', 'index', 'isalnum', 'isalpha', 'isascii', 'isdecimal', 'isdigit', 'isidentifier', 'islower', 'isnumeric', 'isprintable', 'isspace', 'istitle', 'isupper', 'join', 'ljust', 'lower', 'lstrip', 'maketrans', 'n3', 'neq', 'partition', 'replace', 'rfind', 'rindex', 'rjust', 'rpartition', 'rsplit', 'rstrip', 'split', 'splitlines', 'startswith', 'strip', 'swapcase', 'title', 'toPython', 'translate', 'upper', 'zfill']\n",
      "http://purl.org/hucit/kb/authors/915/name http://www.w3.org/2000/01/rdf-schema#label Erodoto\n",
      "<class 'rdflib.term.Literal'>\n",
      "['__abs__', '__add__', '__bool__', '__class__', '__contains__', '__delattr__', '__dir__', '__doc__', '__eq__', '__format__', '__ge__', '__getattribute__', '__getitem__', '__getnewargs__', '__getstate__', '__gt__', '__hash__', '__init__', '__init_subclass__', '__invert__', '__iter__', '__le__', '__len__', '__lt__', '__mod__', '__module__', '__mul__', '__ne__', '__neg__', '__new__', '__pos__', '__reduce__', '__reduce_ex__', '__repr__', '__rmod__', '__rmul__', '__setattr__', '__setstate__', '__sizeof__', '__slots__', '__str__', '__subclasshook__', '_comparable_to', '_datatype', '_language', '_literal_n3', '_quote_encode', '_value', 'capitalize', 'casefold', 'center', 'count', 'datatype', 'encode', 'endswith', 'eq', 'expandtabs', 'find', 'format', 'format_map', 'index', 'isalnum', 'isalpha', 'isascii', 'isdecimal', 'isdigit', 'isidentifier', 'islower', 'isnumeric', 'isprintable', 'isspace', 'istitle', 'isupper', 'join', 'language', 'ljust', 'lower', 'lstrip', 'maketrans', 'n3', 'neq', 'normalize', 'partition', 'replace', 'rfind', 'rindex', 'rjust', 'rpartition', 'rsplit', 'rstrip', 'split', 'splitlines', 'startswith', 'strip', 'swapcase', 'title', 'toPython', 'translate', 'upper', 'value', 'zfill']\n",
      "http://purl.org/hucit/kb/authors/915/name http://www.w3.org/2000/01/rdf-schema#label Herodot\n",
      "<class 'rdflib.term.Literal'>\n",
      "['__abs__', '__add__', '__bool__', '__class__', '__contains__', '__delattr__', '__dir__', '__doc__', '__eq__', '__format__', '__ge__', '__getattribute__', '__getitem__', '__getnewargs__', '__getstate__', '__gt__', '__hash__', '__init__', '__init_subclass__', '__invert__', '__iter__', '__le__', '__len__', '__lt__', '__mod__', '__module__', '__mul__', '__ne__', '__neg__', '__new__', '__pos__', '__reduce__', '__reduce_ex__', '__repr__', '__rmod__', '__rmul__', '__setattr__', '__setstate__', '__sizeof__', '__slots__', '__str__', '__subclasshook__', '_comparable_to', '_datatype', '_language', '_literal_n3', '_quote_encode', '_value', 'capitalize', 'casefold', 'center', 'count', 'datatype', 'encode', 'endswith', 'eq', 'expandtabs', 'find', 'format', 'format_map', 'index', 'isalnum', 'isalpha', 'isascii', 'isdecimal', 'isdigit', 'isidentifier', 'islower', 'isnumeric', 'isprintable', 'isspace', 'istitle', 'isupper', 'join', 'language', 'ljust', 'lower', 'lstrip', 'maketrans', 'n3', 'neq', 'normalize', 'partition', 'replace', 'rfind', 'rindex', 'rjust', 'rpartition', 'rsplit', 'rstrip', 'split', 'splitlines', 'startswith', 'strip', 'swapcase', 'title', 'toPython', 'translate', 'upper', 'value', 'zfill']\n",
      "http://purl.org/hucit/kb/authors/915/name http://www.w3.org/2000/01/rdf-schema#label Herodotus\n",
      "<class 'rdflib.term.Literal'>\n",
      "['__abs__', '__add__', '__bool__', '__class__', '__contains__', '__delattr__', '__dir__', '__doc__', '__eq__', '__format__', '__ge__', '__getattribute__', '__getitem__', '__getnewargs__', '__getstate__', '__gt__', '__hash__', '__init__', '__init_subclass__', '__invert__', '__iter__', '__le__', '__len__', '__lt__', '__mod__', '__module__', '__mul__', '__ne__', '__neg__', '__new__', '__pos__', '__reduce__', '__reduce_ex__', '__repr__', '__rmod__', '__rmul__', '__setattr__', '__setstate__', '__sizeof__', '__slots__', '__str__', '__subclasshook__', '_comparable_to', '_datatype', '_language', '_literal_n3', '_quote_encode', '_value', 'capitalize', 'casefold', 'center', 'count', 'datatype', 'encode', 'endswith', 'eq', 'expandtabs', 'find', 'format', 'format_map', 'index', 'isalnum', 'isalpha', 'isascii', 'isdecimal', 'isdigit', 'isidentifier', 'islower', 'isnumeric', 'isprintable', 'isspace', 'istitle', 'isupper', 'join', 'language', 'ljust', 'lower', 'lstrip', 'maketrans', 'n3', 'neq', 'normalize', 'partition', 'replace', 'rfind', 'rindex', 'rjust', 'rpartition', 'rsplit', 'rstrip', 'split', 'splitlines', 'startswith', 'strip', 'swapcase', 'title', 'toPython', 'translate', 'upper', 'value', 'zfill']\n",
      "http://purl.org/hucit/kb/authors/915/name http://www.w3.org/2000/01/rdf-schema#label Herodotus Historicus\n",
      "<class 'rdflib.term.Literal'>\n",
      "['__abs__', '__add__', '__bool__', '__class__', '__contains__', '__delattr__', '__dir__', '__doc__', '__eq__', '__format__', '__ge__', '__getattribute__', '__getitem__', '__getnewargs__', '__getstate__', '__gt__', '__hash__', '__init__', '__init_subclass__', '__invert__', '__iter__', '__le__', '__len__', '__lt__', '__mod__', '__module__', '__mul__', '__ne__', '__neg__', '__new__', '__pos__', '__reduce__', '__reduce_ex__', '__repr__', '__rmod__', '__rmul__', '__setattr__', '__setstate__', '__sizeof__', '__slots__', '__str__', '__subclasshook__', '_comparable_to', '_datatype', '_language', '_literal_n3', '_quote_encode', '_value', 'capitalize', 'casefold', 'center', 'count', 'datatype', 'encode', 'endswith', 'eq', 'expandtabs', 'find', 'format', 'format_map', 'index', 'isalnum', 'isalpha', 'isascii', 'isdecimal', 'isdigit', 'isidentifier', 'islower', 'isnumeric', 'isprintable', 'isspace', 'istitle', 'isupper', 'join', 'language', 'ljust', 'lower', 'lstrip', 'maketrans', 'n3', 'neq', 'normalize', 'partition', 'replace', 'rfind', 'rindex', 'rjust', 'rpartition', 'rsplit', 'rstrip', 'split', 'splitlines', 'startswith', 'strip', 'swapcase', 'title', 'toPython', 'translate', 'upper', 'value', 'zfill']\n",
      "http://purl.org/hucit/kb/authors/915/name http://www.w3.org/2000/01/rdf-schema#label Hérodote\n",
      "<class 'rdflib.term.Literal'>\n",
      "['__abs__', '__add__', '__bool__', '__class__', '__contains__', '__delattr__', '__dir__', '__doc__', '__eq__', '__format__', '__ge__', '__getattribute__', '__getitem__', '__getnewargs__', '__getstate__', '__gt__', '__hash__', '__init__', '__init_subclass__', '__invert__', '__iter__', '__le__', '__len__', '__lt__', '__mod__', '__module__', '__mul__', '__ne__', '__neg__', '__new__', '__pos__', '__reduce__', '__reduce_ex__', '__repr__', '__rmod__', '__rmul__', '__setattr__', '__setstate__', '__sizeof__', '__slots__', '__str__', '__subclasshook__', '_comparable_to', '_datatype', '_language', '_literal_n3', '_quote_encode', '_value', 'capitalize', 'casefold', 'center', 'count', 'datatype', 'encode', 'endswith', 'eq', 'expandtabs', 'find', 'format', 'format_map', 'index', 'isalnum', 'isalpha', 'isascii', 'isdecimal', 'isdigit', 'isidentifier', 'islower', 'isnumeric', 'isprintable', 'isspace', 'istitle', 'isupper', 'join', 'language', 'ljust', 'lower', 'lstrip', 'maketrans', 'n3', 'neq', 'normalize', 'partition', 'replace', 'rfind', 'rindex', 'rjust', 'rpartition', 'rsplit', 'rstrip', 'split', 'splitlines', 'startswith', 'strip', 'swapcase', 'title', 'toPython', 'translate', 'upper', 'value', 'zfill']\n"
     ]
    }
   ],
   "source": [
    "s = name.subject\n",
    "for p, objs in list(name.rdf_direct.items()):\n",
    "                for o in objs:\n",
    "                    print(s, p, o)\n",
    "                    print(type(o))\n",
    "                    print(dir(o))"
   ]
  },
  {
   "cell_type": "code",
   "execution_count": 207,
   "metadata": {},
   "outputs": [
    {
     "data": {
      "text/plain": [
       "defaultdict(list,\n",
       "            {rdflib.term.URIRef('http://www.w3.org/1999/02/22-rdf-syntax-ns#type'): [rdflib.term.URIRef('http://erlangen-crm.org/efrbroo/F12_Name')],\n",
       "             rdflib.term.URIRef('http://www.w3.org/2000/01/rdf-schema#label'): [rdflib.term.Literal('Erodoto', lang='it'),\n",
       "              rdflib.term.Literal('Herodot', lang='de'),\n",
       "              rdflib.term.Literal('Herodotus', lang='la'),\n",
       "              rdflib.term.Literal('Herodotus Historicus', lang='la'),\n",
       "              rdflib.term.Literal('Hérodote', lang='fr')],\n",
       "             0: []})"
      ]
     },
     "execution_count": 207,
     "metadata": {},
     "output_type": "execute_result"
    }
   ],
   "source": [
    "name.rdf_direct"
   ]
  },
  {
   "cell_type": "code",
   "execution_count": 204,
   "metadata": {},
   "outputs": [
    {
     "name": "stdout",
     "output_type": "stream",
     "text": [
      "b'<?xml version=\"1.0\" encoding=\"UTF-8\"?>\\n<rdf:RDF\\n   xmlns:RDF=\"http://www.w3.org/1999/02/22-rdf-syntax-ns#\"\\n   xmlns:RDFS=\"http://www.w3.org/2000/01/rdf-schema#\"\\n   xmlns:rdf=\"http://www.w3.org/1999/02/22-rdf-syntax-ns#\"\\n>\\n  <rdf:Description rdf:about=\"http://purl.org/hucit/kb/authors/915/name\">\\n    <RDF:type rdf:resource=\"http://erlangen-crm.org/efrbroo/F12_Name\"/>\\n    <RDFS:label xml:lang=\"la\">Herodotus</RDFS:label>\\n    <RDFS:label xml:lang=\"fr\">H\\xc3\\xa9rodote</RDFS:label>\\n    <RDFS:label xml:lang=\"it\">Erodoto</RDFS:label>\\n    <RDFS:label xml:lang=\"de\">Herodot</RDFS:label>\\n    <RDFS:label xml:lang=\"la\">Herodotus Historicus</RDFS:label>\\n  </rdf:Description>\\n</rdf:RDF>\\n'\n"
     ]
    }
   ],
   "source": [
    "print(name.serialize())"
   ]
  },
  {
   "cell_type": "code",
   "execution_count": 186,
   "metadata": {},
   "outputs": [],
   "source": [
    "names = name.rdfs_label"
   ]
  },
  {
   "cell_type": "code",
   "execution_count": 187,
   "metadata": {},
   "outputs": [],
   "source": [
    "new_name = names.pop()"
   ]
  },
  {
   "cell_type": "code",
   "execution_count": 188,
   "metadata": {},
   "outputs": [
    {
     "data": {
      "text/plain": [
       "rdflib.term.Literal('Démosthène', lang='fr')"
      ]
     },
     "execution_count": 188,
     "metadata": {},
     "output_type": "execute_result"
    }
   ],
   "source": [
    "new_name"
   ]
  },
  {
   "cell_type": "code",
   "execution_count": 190,
   "metadata": {},
   "outputs": [],
   "source": [
    "name.rdfs_label = []\n",
    "\n",
    "for label in names:\n",
    "    name.rdfs_label.append(label)"
   ]
  },
  {
   "cell_type": "code",
   "execution_count": 36,
   "metadata": {},
   "outputs": [
    {
     "name": "stderr",
     "output_type": "stream",
     "text": [
      "2020-10-02 11:40:48,025 DEBUG    surf    DELETE  FROM <http://purl.org/hucit/kb> {  ?s ?p ?o  } WHERE { {  {  ?s ?p ?o .  FILTER (?s = <http://purl.org/hucit/kb/authors/765/name> AND ?p = <http://www.w3.org/1999/02/22-rdf-syntax-ns#type>)  }  } UNION {  {  ?s ?p ?o .  FILTER (?s = <http://purl.org/hucit/kb/authors/765/name> AND ?p = <http://www.w3.org/2000/01/rdf-schema#label>)  }  } }\n",
      "2020-10-02 11:40:48,082 DEBUG    surf    INSERT  INTO <http://purl.org/hucit/kb> {  <http://purl.org/hucit/kb/authors/765/name> <http://www.w3.org/1999/02/22-rdf-syntax-ns#type> <http://erlangen-crm.org/efrbroo/F12_Name> .  <http://purl.org/hucit/kb/authors/765/name> <http://www.w3.org/2000/01/rdf-schema#label> \"Aristofane\" .  <http://purl.org/hucit/kb/authors/765/name> <http://www.w3.org/2000/01/rdf-schema#label> \"Aristophan\" .  <http://purl.org/hucit/kb/authors/765/name> <http://www.w3.org/2000/01/rdf-schema#label> \"Aristophane\" .  <http://purl.org/hucit/kb/authors/765/name> <http://www.w3.org/2000/01/rdf-schema#label> \"Aristophanes\" .  <http://purl.org/hucit/kb/authors/765/name> <http://www.w3.org/2000/01/rdf-schema#label> \"Aristophanes Atheniensis\" .  <http://purl.org/hucit/kb/authors/765/name> <http://www.w3.org/2000/01/rdf-schema#label> \"Aristophanes Comicus\" .  <http://purl.org/hucit/kb/authors/765/name> <http://www.w3.org/2000/01/rdf-schema#label> \"Aristófanes\"  } \n",
      "2020-10-02 11:40:48,122 DEBUG    surf    SELECT DISTINCT ?p ?v ?c FROM <http://purl.org/hucit/kb>  WHERE {  <http://purl.org/hucit/kb/authors/765/name> ?p ?v .  OPTIONAL { ?v <http://www.w3.org/1999/02/22-rdf-syntax-ns#type> ?c }  }    \n",
      "2020-10-02 11:40:48,181 DEBUG    surf    SELECT DISTINCT ?p ?v ?c FROM <http://purl.org/hucit/kb>  WHERE {  ?v ?p <http://purl.org/hucit/kb/authors/765/name> .  OPTIONAL { ?v <http://www.w3.org/1999/02/22-rdf-syntax-ns#type> ?c }  }    \n"
     ]
    }
   ],
   "source": [
    "name.update()\n",
    "name.load()"
   ]
  },
  {
   "cell_type": "code",
   "execution_count": 194,
   "metadata": {},
   "outputs": [
    {
     "data": {
      "text/plain": [
       "[rdflib.term.Literal('Demostene'), rdflib.term.Literal('Demosthenes'), rdflib.term.Literal('Demosthenes Atheniensis'), rdflib.term.Literal('Demóstenes')]"
      ]
     },
     "execution_count": 194,
     "metadata": {},
     "output_type": "execute_result"
    }
   ],
   "source": [
    "name.rdfs_label"
   ]
  },
  {
   "cell_type": "code",
   "execution_count": 37,
   "metadata": {},
   "outputs": [
    {
     "data": {
      "text/plain": [
       "True"
      ]
     },
     "execution_count": 37,
     "metadata": {},
     "output_type": "execute_result"
    }
   ],
   "source": [
    "isinstance(name.rdfs_label.first, str)"
   ]
  },
  {
   "cell_type": "code",
   "execution_count": 35,
   "metadata": {},
   "outputs": [
    {
     "data": {
      "text/plain": [
       "'\"Aristofane\"@it'"
      ]
     },
     "execution_count": 35,
     "metadata": {},
     "output_type": "execute_result"
    }
   ],
   "source": [
    "name.rdfs_label.first.n3()"
   ]
  },
  {
   "cell_type": "code",
   "execution_count": 133,
   "metadata": {},
   "outputs": [],
   "source": [
    "from rdflib import Literal"
   ]
  },
  {
   "cell_type": "code",
   "execution_count": 134,
   "metadata": {},
   "outputs": [],
   "source": [
    "newname = Literal(\"هوميروس\", \"ar\")"
   ]
  },
  {
   "cell_type": "code",
   "execution_count": 135,
   "metadata": {},
   "outputs": [
    {
     "data": {
      "text/plain": [
       "rdflib.term.Literal('هوميروس', lang='ar')"
      ]
     },
     "execution_count": 135,
     "metadata": {},
     "output_type": "execute_result"
    }
   ],
   "source": [
    "newname"
   ]
  },
  {
   "cell_type": "code",
   "execution_count": 171,
   "metadata": {},
   "outputs": [],
   "source": [
    "names.append(newname)"
   ]
  },
  {
   "cell_type": "code",
   "execution_count": 172,
   "metadata": {},
   "outputs": [
    {
     "data": {
      "text/plain": [
       "[rdflib.term.Literal('Homeric Hymns', lang='en'), rdflib.term.Literal('Homerische Hymnen', lang='de'), rdflib.term.Literal('Hymnes homériques', lang='fr'), rdflib.term.Literal('Hymni Homerici', lang='la'), rdflib.term.Literal('هوميروس', lang='ar')]"
      ]
     },
     "execution_count": 172,
     "metadata": {},
     "output_type": "execute_result"
    }
   ],
   "source": [
    "names"
   ]
  },
  {
   "cell_type": "code",
   "execution_count": 173,
   "metadata": {},
   "outputs": [],
   "source": [
    "name.rdfs_label = names"
   ]
  },
  {
   "cell_type": "code",
   "execution_count": 174,
   "metadata": {},
   "outputs": [
    {
     "data": {
      "text/plain": [
       "[rdflib.term.Literal('Homeric Hymns', lang='en'), rdflib.term.Literal('Homerische Hymnen', lang='de'), rdflib.term.Literal('Hymnes homériques', lang='fr'), rdflib.term.Literal('Hymni Homerici', lang='la'), rdflib.term.Literal('هوميروس', lang='ar')]"
      ]
     },
     "execution_count": 174,
     "metadata": {},
     "output_type": "execute_result"
    }
   ],
   "source": [
    "name.rdfs_label"
   ]
  },
  {
   "cell_type": "code",
   "execution_count": 175,
   "metadata": {},
   "outputs": [],
   "source": [
    "name.update()\n",
    "name.load()"
   ]
  },
  {
   "cell_type": "code",
   "execution_count": 176,
   "metadata": {},
   "outputs": [
    {
     "data": {
      "text/plain": [
       "[rdflib.term.Literal('هوميروس'), rdflib.term.Literal('Homeric Hymns'), rdflib.term.Literal('Homerische Hymnen'), rdflib.term.Literal('Hymnes homériques'), rdflib.term.Literal('Hymni Homerici')]"
      ]
     },
     "execution_count": 176,
     "metadata": {},
     "output_type": "execute_result"
    }
   ],
   "source": [
    "name.rdfs_label"
   ]
  },
  {
   "cell_type": "code",
   "execution_count": 181,
   "metadata": {},
   "outputs": [
    {
     "data": {
      "text/plain": [
       "b'<?xml version=\"1.0\" encoding=\"UTF-8\"?>\\n<rdf:RDF\\n   xmlns:ECRM=\"http://erlangen-crm.org/current/\"\\n   xmlns:RDF=\"http://www.w3.org/1999/02/22-rdf-syntax-ns#\"\\n   xmlns:RDFS=\"http://www.w3.org/2000/01/rdf-schema#\"\\n   xmlns:rdf=\"http://www.w3.org/1999/02/22-rdf-syntax-ns#\"\\n>\\n  <rdf:Description rdf:about=\"http://purl.org/hucit/kb/authors/929/name\">\\n    <RDF:type rdf:resource=\"http://erlangen-crm.org/efrbroo/F12_Name\"/>\\n    <RDFS:label>Homeric Hymns</RDFS:label>\\n    <RDFS:label>\\xd9\\x87\\xd9\\x88\\xd9\\x85\\xd9\\x8a\\xd8\\xb1\\xd9\\x88\\xd8\\xb3</RDFS:label>\\n    <RDFS:label>Hymni Homerici</RDFS:label>\\n    <ECRM:P139_has_alternative_form rdf:resource=\"http://purl.org/hucit/kb/authors/929/abbr\"/>\\n    <RDFS:label>Homerische Hymnen</RDFS:label>\\n    <RDFS:label>Hymnes hom\\xc3\\xa9riques</RDFS:label>\\n  </rdf:Description>\\n  <rdf:Description rdf:about=\"http://purl.org/hucit/kb/authors/929\">\\n    <ECRM:P1_identified_by rdf:resource=\"http://purl.org/hucit/kb/authors/929/name\"/>\\n  </rdf:Description>\\n</rdf:RDF>\\n'"
      ]
     },
     "execution_count": 181,
     "metadata": {},
     "output_type": "execute_result"
    }
   ],
   "source": [
    "name.serialize()"
   ]
  },
  {
   "cell_type": "code",
   "execution_count": 145,
   "metadata": {},
   "outputs": [
    {
     "data": {
      "text/plain": [
       "rdflib.term.Literal('هوميروس', lang='ar')"
      ]
     },
     "execution_count": 145,
     "metadata": {},
     "output_type": "execute_result"
    }
   ],
   "source": [
    "names.pop()"
   ]
  },
  {
   "cell_type": "code",
   "execution_count": 146,
   "metadata": {},
   "outputs": [
    {
     "data": {
      "text/plain": [
       "[rdflib.term.Literal('Homer', lang='en'), rdflib.term.Literal('Homeros'), rdflib.term.Literal('Homerus', lang='la'), rdflib.term.Literal('Homère', lang='fr'), rdflib.term.Literal('Omero', lang='it')]"
      ]
     },
     "execution_count": 146,
     "metadata": {},
     "output_type": "execute_result"
    }
   ],
   "source": [
    "names"
   ]
  },
  {
   "cell_type": "code",
   "execution_count": 20,
   "metadata": {},
   "outputs": [],
   "source": [
    "from surf.query.update import insert, delete, clear, load"
   ]
  },
  {
   "cell_type": "code",
   "execution_count": 22,
   "metadata": {},
   "outputs": [],
   "source": [
    "query = insert()"
   ]
  },
  {
   "cell_type": "code",
   "execution_count": 23,
   "metadata": {},
   "outputs": [
    {
     "data": {
      "text/plain": [
       "<surf.query.update.QueryUpdate at 0x112ccaee0>"
      ]
     },
     "execution_count": 23,
     "metadata": {},
     "output_type": "execute_result"
    }
   ],
   "source": [
    "query"
   ]
  },
  {
   "cell_type": "code",
   "execution_count": 24,
   "metadata": {},
   "outputs": [
    {
     "data": {
      "text/plain": [
       "'INSERT   {  } '"
      ]
     },
     "execution_count": 24,
     "metadata": {},
     "output_type": "execute_result"
    }
   ],
   "source": [
    "str(query)"
   ]
  },
  {
   "cell_type": "code",
   "execution_count": null,
   "metadata": {},
   "outputs": [],
   "source": []
  }
 ],
 "metadata": {
  "kernelspec": {
   "display_name": "Python 3",
   "language": "python",
   "name": "python3"
  },
  "language_info": {
   "codemirror_mode": {
    "name": "ipython",
    "version": 3
   },
   "file_extension": ".py",
   "mimetype": "text/x-python",
   "name": "python",
   "nbconvert_exporter": "python",
   "pygments_lexer": "ipython3",
   "version": "3.8.0"
  }
 },
 "nbformat": 4,
 "nbformat_minor": 4
}
